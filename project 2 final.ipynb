{
 "cells": [
  {
   "cell_type": "markdown",
   "id": "38b66801",
   "metadata": {},
   "source": [
    "<img src=\"http://imgur.com/1ZcRyrc.png\" style=\"float: left; margin: 20px; height: 55px\">\n",
    "\n",
    "# Project 2 - Ames Housing Data and Kaggle Challenge"
   ]
  },
  {
   "cell_type": "markdown",
   "id": "155d1ca1",
   "metadata": {},
   "source": [
    "## Problem Statement"
   ]
  },
  {
   "cell_type": "markdown",
   "id": "c2e25058",
   "metadata": {},
   "source": [
    "There are are many variables that determine how much a home can fetch.\n",
    "Using the Ames (IA) dataset (train, test), we want to find out which variables matter for home sale prices and produce accurate sale price predictions. \n",
    "This model will help provide the Outside View*, helping to reduce information asymmetry between potential home-buyers, home-sellers and real estate agents, and the success of the model will depend on the accuracy on how well the model is able to predict home prices."
   ]
  },
  {
   "cell_type": "markdown",
   "id": "aff32b53",
   "metadata": {},
   "source": [
    "### Contents"
   ]
  },
  {
   "cell_type": "markdown",
   "id": "bf697ba3",
   "metadata": {},
   "source": [
    "* Background\n",
    "* Data sets used\n",
    "* Data Import\n",
    "* Cleaning Train Dataset"
   ]
  },
  {
   "cell_type": "markdown",
   "id": "53e0ecde",
   "metadata": {},
   "source": [
    "### Background "
   ]
  },
  {
   "cell_type": "markdown",
   "id": "3cf8b7a2",
   "metadata": {},
   "source": [
    "The original original intent for the data was to be used for tax assessment purposes but lends itself directly to the prediction of home selling prices. The type of information contained in the data is similar to what a typical home buyer would want to know before making a purchase, like size, neighborhood, exterior, basement, sale price, etc."
   ]
  },
  {
   "cell_type": "markdown",
   "id": "221fce97",
   "metadata": {},
   "source": [
    "### Data sets used "
   ]
  },
  {
   "cell_type": "markdown",
   "id": "689f83e3",
   "metadata": {},
   "source": [
    "* train.csv\n",
    "* test.csv"
   ]
  },
  {
   "cell_type": "markdown",
   "id": "d468e148",
   "metadata": {},
   "source": [
    "### Data Import"
   ]
  },
  {
   "cell_type": "code",
   "execution_count": 1,
   "id": "3cbdcb86",
   "metadata": {},
   "outputs": [],
   "source": [
    "import pandas as pd\n",
    "import numpy as np\n",
    "import matplotlib.pyplot as plt\n",
    "import seaborn as sns\n",
    "\n",
    "from sklearn.experimental import enable_iterative_imputer \n",
    "from sklearn.impute import IterativeImputer\n",
    "from sklearn.linear_model import LinearRegression, LogisticRegression, Lasso, LassoCV, Ridge, RidgeCV\n",
    "from sklearn.model_selection import train_test_split, cross_val_score,  GridSearchCV\n",
    "from sklearn.preprocessing import StandardScaler\n",
    "from sklearn.metrics import confusion_matrix, mean_squared_error, mean_absolute_error, mean_squared_error\n",
    "from sklearn.utils import resample\n",
    "from scipy import stats"
   ]
  },
  {
   "cell_type": "code",
   "execution_count": 2,
   "id": "116d70c4",
   "metadata": {},
   "outputs": [],
   "source": [
    "train_df = pd.read_csv('./datasets/train.csv')\n",
    "test_df = pd.read_csv('./datasets/test.csv')\n",
    "\n",
    "# backup df\n",
    "old_train_df = train_df\n",
    "old_test_df = test_df"
   ]
  },
  {
   "cell_type": "code",
   "execution_count": 3,
   "id": "8bb3fbaa",
   "metadata": {},
   "outputs": [
    {
     "name": "stdout",
     "output_type": "stream",
     "text": [
      "(2051, 81)\n",
      "(878, 80)\n"
     ]
    }
   ],
   "source": [
    "print(train_df.shape)\n",
    "print(test_df.shape)"
   ]
  },
  {
   "cell_type": "code",
   "execution_count": 4,
   "id": "4a8806b0",
   "metadata": {},
   "outputs": [
    {
     "data": {
      "text/html": [
       "<div>\n",
       "<style scoped>\n",
       "    .dataframe tbody tr th:only-of-type {\n",
       "        vertical-align: middle;\n",
       "    }\n",
       "\n",
       "    .dataframe tbody tr th {\n",
       "        vertical-align: top;\n",
       "    }\n",
       "\n",
       "    .dataframe thead th {\n",
       "        text-align: right;\n",
       "    }\n",
       "</style>\n",
       "<table border=\"1\" class=\"dataframe\">\n",
       "  <thead>\n",
       "    <tr style=\"text-align: right;\">\n",
       "      <th></th>\n",
       "      <th>Id</th>\n",
       "      <th>PID</th>\n",
       "      <th>MS SubClass</th>\n",
       "      <th>MS Zoning</th>\n",
       "      <th>Lot Frontage</th>\n",
       "      <th>Lot Area</th>\n",
       "      <th>Street</th>\n",
       "      <th>Alley</th>\n",
       "      <th>Lot Shape</th>\n",
       "      <th>Land Contour</th>\n",
       "      <th>...</th>\n",
       "      <th>Screen Porch</th>\n",
       "      <th>Pool Area</th>\n",
       "      <th>Pool QC</th>\n",
       "      <th>Fence</th>\n",
       "      <th>Misc Feature</th>\n",
       "      <th>Misc Val</th>\n",
       "      <th>Mo Sold</th>\n",
       "      <th>Yr Sold</th>\n",
       "      <th>Sale Type</th>\n",
       "      <th>SalePrice</th>\n",
       "    </tr>\n",
       "  </thead>\n",
       "  <tbody>\n",
       "    <tr>\n",
       "      <th>0</th>\n",
       "      <td>109</td>\n",
       "      <td>533352170</td>\n",
       "      <td>60</td>\n",
       "      <td>RL</td>\n",
       "      <td>NaN</td>\n",
       "      <td>13517</td>\n",
       "      <td>Pave</td>\n",
       "      <td>NaN</td>\n",
       "      <td>IR1</td>\n",
       "      <td>Lvl</td>\n",
       "      <td>...</td>\n",
       "      <td>0</td>\n",
       "      <td>0</td>\n",
       "      <td>NaN</td>\n",
       "      <td>NaN</td>\n",
       "      <td>NaN</td>\n",
       "      <td>0</td>\n",
       "      <td>3</td>\n",
       "      <td>2010</td>\n",
       "      <td>WD</td>\n",
       "      <td>130500</td>\n",
       "    </tr>\n",
       "    <tr>\n",
       "      <th>1</th>\n",
       "      <td>544</td>\n",
       "      <td>531379050</td>\n",
       "      <td>60</td>\n",
       "      <td>RL</td>\n",
       "      <td>43.0</td>\n",
       "      <td>11492</td>\n",
       "      <td>Pave</td>\n",
       "      <td>NaN</td>\n",
       "      <td>IR1</td>\n",
       "      <td>Lvl</td>\n",
       "      <td>...</td>\n",
       "      <td>0</td>\n",
       "      <td>0</td>\n",
       "      <td>NaN</td>\n",
       "      <td>NaN</td>\n",
       "      <td>NaN</td>\n",
       "      <td>0</td>\n",
       "      <td>4</td>\n",
       "      <td>2009</td>\n",
       "      <td>WD</td>\n",
       "      <td>220000</td>\n",
       "    </tr>\n",
       "    <tr>\n",
       "      <th>2</th>\n",
       "      <td>153</td>\n",
       "      <td>535304180</td>\n",
       "      <td>20</td>\n",
       "      <td>RL</td>\n",
       "      <td>68.0</td>\n",
       "      <td>7922</td>\n",
       "      <td>Pave</td>\n",
       "      <td>NaN</td>\n",
       "      <td>Reg</td>\n",
       "      <td>Lvl</td>\n",
       "      <td>...</td>\n",
       "      <td>0</td>\n",
       "      <td>0</td>\n",
       "      <td>NaN</td>\n",
       "      <td>NaN</td>\n",
       "      <td>NaN</td>\n",
       "      <td>0</td>\n",
       "      <td>1</td>\n",
       "      <td>2010</td>\n",
       "      <td>WD</td>\n",
       "      <td>109000</td>\n",
       "    </tr>\n",
       "    <tr>\n",
       "      <th>3</th>\n",
       "      <td>318</td>\n",
       "      <td>916386060</td>\n",
       "      <td>60</td>\n",
       "      <td>RL</td>\n",
       "      <td>73.0</td>\n",
       "      <td>9802</td>\n",
       "      <td>Pave</td>\n",
       "      <td>NaN</td>\n",
       "      <td>Reg</td>\n",
       "      <td>Lvl</td>\n",
       "      <td>...</td>\n",
       "      <td>0</td>\n",
       "      <td>0</td>\n",
       "      <td>NaN</td>\n",
       "      <td>NaN</td>\n",
       "      <td>NaN</td>\n",
       "      <td>0</td>\n",
       "      <td>4</td>\n",
       "      <td>2010</td>\n",
       "      <td>WD</td>\n",
       "      <td>174000</td>\n",
       "    </tr>\n",
       "    <tr>\n",
       "      <th>4</th>\n",
       "      <td>255</td>\n",
       "      <td>906425045</td>\n",
       "      <td>50</td>\n",
       "      <td>RL</td>\n",
       "      <td>82.0</td>\n",
       "      <td>14235</td>\n",
       "      <td>Pave</td>\n",
       "      <td>NaN</td>\n",
       "      <td>IR1</td>\n",
       "      <td>Lvl</td>\n",
       "      <td>...</td>\n",
       "      <td>0</td>\n",
       "      <td>0</td>\n",
       "      <td>NaN</td>\n",
       "      <td>NaN</td>\n",
       "      <td>NaN</td>\n",
       "      <td>0</td>\n",
       "      <td>3</td>\n",
       "      <td>2010</td>\n",
       "      <td>WD</td>\n",
       "      <td>138500</td>\n",
       "    </tr>\n",
       "  </tbody>\n",
       "</table>\n",
       "<p>5 rows × 81 columns</p>\n",
       "</div>"
      ],
      "text/plain": [
       "    Id        PID  MS SubClass MS Zoning  Lot Frontage  Lot Area Street Alley  \\\n",
       "0  109  533352170           60        RL           NaN     13517   Pave   NaN   \n",
       "1  544  531379050           60        RL          43.0     11492   Pave   NaN   \n",
       "2  153  535304180           20        RL          68.0      7922   Pave   NaN   \n",
       "3  318  916386060           60        RL          73.0      9802   Pave   NaN   \n",
       "4  255  906425045           50        RL          82.0     14235   Pave   NaN   \n",
       "\n",
       "  Lot Shape Land Contour  ... Screen Porch Pool Area Pool QC Fence  \\\n",
       "0       IR1          Lvl  ...            0         0     NaN   NaN   \n",
       "1       IR1          Lvl  ...            0         0     NaN   NaN   \n",
       "2       Reg          Lvl  ...            0         0     NaN   NaN   \n",
       "3       Reg          Lvl  ...            0         0     NaN   NaN   \n",
       "4       IR1          Lvl  ...            0         0     NaN   NaN   \n",
       "\n",
       "  Misc Feature Misc Val Mo Sold Yr Sold  Sale Type  SalePrice  \n",
       "0          NaN        0       3    2010        WD      130500  \n",
       "1          NaN        0       4    2009        WD      220000  \n",
       "2          NaN        0       1    2010        WD      109000  \n",
       "3          NaN        0       4    2010        WD      174000  \n",
       "4          NaN        0       3    2010        WD      138500  \n",
       "\n",
       "[5 rows x 81 columns]"
      ]
     },
     "execution_count": 4,
     "metadata": {},
     "output_type": "execute_result"
    }
   ],
   "source": [
    "train_df.head()"
   ]
  },
  {
   "cell_type": "code",
   "execution_count": 5,
   "id": "15c949d1",
   "metadata": {},
   "outputs": [
    {
     "data": {
      "text/html": [
       "<div>\n",
       "<style scoped>\n",
       "    .dataframe tbody tr th:only-of-type {\n",
       "        vertical-align: middle;\n",
       "    }\n",
       "\n",
       "    .dataframe tbody tr th {\n",
       "        vertical-align: top;\n",
       "    }\n",
       "\n",
       "    .dataframe thead th {\n",
       "        text-align: right;\n",
       "    }\n",
       "</style>\n",
       "<table border=\"1\" class=\"dataframe\">\n",
       "  <thead>\n",
       "    <tr style=\"text-align: right;\">\n",
       "      <th></th>\n",
       "      <th>Id</th>\n",
       "      <th>PID</th>\n",
       "      <th>MS SubClass</th>\n",
       "      <th>MS Zoning</th>\n",
       "      <th>Lot Frontage</th>\n",
       "      <th>Lot Area</th>\n",
       "      <th>Street</th>\n",
       "      <th>Alley</th>\n",
       "      <th>Lot Shape</th>\n",
       "      <th>Land Contour</th>\n",
       "      <th>...</th>\n",
       "      <th>3Ssn Porch</th>\n",
       "      <th>Screen Porch</th>\n",
       "      <th>Pool Area</th>\n",
       "      <th>Pool QC</th>\n",
       "      <th>Fence</th>\n",
       "      <th>Misc Feature</th>\n",
       "      <th>Misc Val</th>\n",
       "      <th>Mo Sold</th>\n",
       "      <th>Yr Sold</th>\n",
       "      <th>Sale Type</th>\n",
       "    </tr>\n",
       "  </thead>\n",
       "  <tbody>\n",
       "    <tr>\n",
       "      <th>0</th>\n",
       "      <td>2658</td>\n",
       "      <td>902301120</td>\n",
       "      <td>190</td>\n",
       "      <td>RM</td>\n",
       "      <td>69.0</td>\n",
       "      <td>9142</td>\n",
       "      <td>Pave</td>\n",
       "      <td>Grvl</td>\n",
       "      <td>Reg</td>\n",
       "      <td>Lvl</td>\n",
       "      <td>...</td>\n",
       "      <td>0</td>\n",
       "      <td>0</td>\n",
       "      <td>0</td>\n",
       "      <td>NaN</td>\n",
       "      <td>NaN</td>\n",
       "      <td>NaN</td>\n",
       "      <td>0</td>\n",
       "      <td>4</td>\n",
       "      <td>2006</td>\n",
       "      <td>WD</td>\n",
       "    </tr>\n",
       "    <tr>\n",
       "      <th>1</th>\n",
       "      <td>2718</td>\n",
       "      <td>905108090</td>\n",
       "      <td>90</td>\n",
       "      <td>RL</td>\n",
       "      <td>NaN</td>\n",
       "      <td>9662</td>\n",
       "      <td>Pave</td>\n",
       "      <td>NaN</td>\n",
       "      <td>IR1</td>\n",
       "      <td>Lvl</td>\n",
       "      <td>...</td>\n",
       "      <td>0</td>\n",
       "      <td>0</td>\n",
       "      <td>0</td>\n",
       "      <td>NaN</td>\n",
       "      <td>NaN</td>\n",
       "      <td>NaN</td>\n",
       "      <td>0</td>\n",
       "      <td>8</td>\n",
       "      <td>2006</td>\n",
       "      <td>WD</td>\n",
       "    </tr>\n",
       "    <tr>\n",
       "      <th>2</th>\n",
       "      <td>2414</td>\n",
       "      <td>528218130</td>\n",
       "      <td>60</td>\n",
       "      <td>RL</td>\n",
       "      <td>58.0</td>\n",
       "      <td>17104</td>\n",
       "      <td>Pave</td>\n",
       "      <td>NaN</td>\n",
       "      <td>IR1</td>\n",
       "      <td>Lvl</td>\n",
       "      <td>...</td>\n",
       "      <td>0</td>\n",
       "      <td>0</td>\n",
       "      <td>0</td>\n",
       "      <td>NaN</td>\n",
       "      <td>NaN</td>\n",
       "      <td>NaN</td>\n",
       "      <td>0</td>\n",
       "      <td>9</td>\n",
       "      <td>2006</td>\n",
       "      <td>New</td>\n",
       "    </tr>\n",
       "    <tr>\n",
       "      <th>3</th>\n",
       "      <td>1989</td>\n",
       "      <td>902207150</td>\n",
       "      <td>30</td>\n",
       "      <td>RM</td>\n",
       "      <td>60.0</td>\n",
       "      <td>8520</td>\n",
       "      <td>Pave</td>\n",
       "      <td>NaN</td>\n",
       "      <td>Reg</td>\n",
       "      <td>Lvl</td>\n",
       "      <td>...</td>\n",
       "      <td>0</td>\n",
       "      <td>0</td>\n",
       "      <td>0</td>\n",
       "      <td>NaN</td>\n",
       "      <td>NaN</td>\n",
       "      <td>NaN</td>\n",
       "      <td>0</td>\n",
       "      <td>7</td>\n",
       "      <td>2007</td>\n",
       "      <td>WD</td>\n",
       "    </tr>\n",
       "    <tr>\n",
       "      <th>4</th>\n",
       "      <td>625</td>\n",
       "      <td>535105100</td>\n",
       "      <td>20</td>\n",
       "      <td>RL</td>\n",
       "      <td>NaN</td>\n",
       "      <td>9500</td>\n",
       "      <td>Pave</td>\n",
       "      <td>NaN</td>\n",
       "      <td>IR1</td>\n",
       "      <td>Lvl</td>\n",
       "      <td>...</td>\n",
       "      <td>0</td>\n",
       "      <td>185</td>\n",
       "      <td>0</td>\n",
       "      <td>NaN</td>\n",
       "      <td>NaN</td>\n",
       "      <td>NaN</td>\n",
       "      <td>0</td>\n",
       "      <td>7</td>\n",
       "      <td>2009</td>\n",
       "      <td>WD</td>\n",
       "    </tr>\n",
       "  </tbody>\n",
       "</table>\n",
       "<p>5 rows × 80 columns</p>\n",
       "</div>"
      ],
      "text/plain": [
       "     Id        PID  MS SubClass MS Zoning  Lot Frontage  Lot Area Street  \\\n",
       "0  2658  902301120          190        RM          69.0      9142   Pave   \n",
       "1  2718  905108090           90        RL           NaN      9662   Pave   \n",
       "2  2414  528218130           60        RL          58.0     17104   Pave   \n",
       "3  1989  902207150           30        RM          60.0      8520   Pave   \n",
       "4   625  535105100           20        RL           NaN      9500   Pave   \n",
       "\n",
       "  Alley Lot Shape Land Contour  ... 3Ssn Porch Screen Porch Pool Area Pool QC  \\\n",
       "0  Grvl       Reg          Lvl  ...          0            0         0     NaN   \n",
       "1   NaN       IR1          Lvl  ...          0            0         0     NaN   \n",
       "2   NaN       IR1          Lvl  ...          0            0         0     NaN   \n",
       "3   NaN       Reg          Lvl  ...          0            0         0     NaN   \n",
       "4   NaN       IR1          Lvl  ...          0          185         0     NaN   \n",
       "\n",
       "  Fence Misc Feature Misc Val Mo Sold  Yr Sold  Sale Type  \n",
       "0   NaN          NaN        0       4     2006        WD   \n",
       "1   NaN          NaN        0       8     2006        WD   \n",
       "2   NaN          NaN        0       9     2006        New  \n",
       "3   NaN          NaN        0       7     2007        WD   \n",
       "4   NaN          NaN        0       7     2009        WD   \n",
       "\n",
       "[5 rows x 80 columns]"
      ]
     },
     "execution_count": 5,
     "metadata": {},
     "output_type": "execute_result"
    }
   ],
   "source": [
    "test_df.head()"
   ]
  },
  {
   "cell_type": "code",
   "execution_count": 6,
   "id": "e4c3d110",
   "metadata": {},
   "outputs": [
    {
     "name": "stdout",
     "output_type": "stream",
     "text": [
      "<class 'pandas.core.frame.DataFrame'>\n",
      "RangeIndex: 2051 entries, 0 to 2050\n",
      "Data columns (total 81 columns):\n",
      " #   Column           Non-Null Count  Dtype  \n",
      "---  ------           --------------  -----  \n",
      " 0   Id               2051 non-null   int64  \n",
      " 1   PID              2051 non-null   int64  \n",
      " 2   MS SubClass      2051 non-null   int64  \n",
      " 3   MS Zoning        2051 non-null   object \n",
      " 4   Lot Frontage     1721 non-null   float64\n",
      " 5   Lot Area         2051 non-null   int64  \n",
      " 6   Street           2051 non-null   object \n",
      " 7   Alley            140 non-null    object \n",
      " 8   Lot Shape        2051 non-null   object \n",
      " 9   Land Contour     2051 non-null   object \n",
      " 10  Utilities        2051 non-null   object \n",
      " 11  Lot Config       2051 non-null   object \n",
      " 12  Land Slope       2051 non-null   object \n",
      " 13  Neighborhood     2051 non-null   object \n",
      " 14  Condition 1      2051 non-null   object \n",
      " 15  Condition 2      2051 non-null   object \n",
      " 16  Bldg Type        2051 non-null   object \n",
      " 17  House Style      2051 non-null   object \n",
      " 18  Overall Qual     2051 non-null   int64  \n",
      " 19  Overall Cond     2051 non-null   int64  \n",
      " 20  Year Built       2051 non-null   int64  \n",
      " 21  Year Remod/Add   2051 non-null   int64  \n",
      " 22  Roof Style       2051 non-null   object \n",
      " 23  Roof Matl        2051 non-null   object \n",
      " 24  Exterior 1st     2051 non-null   object \n",
      " 25  Exterior 2nd     2051 non-null   object \n",
      " 26  Mas Vnr Type     2029 non-null   object \n",
      " 27  Mas Vnr Area     2029 non-null   float64\n",
      " 28  Exter Qual       2051 non-null   object \n",
      " 29  Exter Cond       2051 non-null   object \n",
      " 30  Foundation       2051 non-null   object \n",
      " 31  Bsmt Qual        1996 non-null   object \n",
      " 32  Bsmt Cond        1996 non-null   object \n",
      " 33  Bsmt Exposure    1993 non-null   object \n",
      " 34  BsmtFin Type 1   1996 non-null   object \n",
      " 35  BsmtFin SF 1     2050 non-null   float64\n",
      " 36  BsmtFin Type 2   1995 non-null   object \n",
      " 37  BsmtFin SF 2     2050 non-null   float64\n",
      " 38  Bsmt Unf SF      2050 non-null   float64\n",
      " 39  Total Bsmt SF    2050 non-null   float64\n",
      " 40  Heating          2051 non-null   object \n",
      " 41  Heating QC       2051 non-null   object \n",
      " 42  Central Air      2051 non-null   object \n",
      " 43  Electrical       2051 non-null   object \n",
      " 44  1st Flr SF       2051 non-null   int64  \n",
      " 45  2nd Flr SF       2051 non-null   int64  \n",
      " 46  Low Qual Fin SF  2051 non-null   int64  \n",
      " 47  Gr Liv Area      2051 non-null   int64  \n",
      " 48  Bsmt Full Bath   2049 non-null   float64\n",
      " 49  Bsmt Half Bath   2049 non-null   float64\n",
      " 50  Full Bath        2051 non-null   int64  \n",
      " 51  Half Bath        2051 non-null   int64  \n",
      " 52  Bedroom AbvGr    2051 non-null   int64  \n",
      " 53  Kitchen AbvGr    2051 non-null   int64  \n",
      " 54  Kitchen Qual     2051 non-null   object \n",
      " 55  TotRms AbvGrd    2051 non-null   int64  \n",
      " 56  Functional       2051 non-null   object \n",
      " 57  Fireplaces       2051 non-null   int64  \n",
      " 58  Fireplace Qu     1051 non-null   object \n",
      " 59  Garage Type      1938 non-null   object \n",
      " 60  Garage Yr Blt    1937 non-null   float64\n",
      " 61  Garage Finish    1937 non-null   object \n",
      " 62  Garage Cars      2050 non-null   float64\n",
      " 63  Garage Area      2050 non-null   float64\n",
      " 64  Garage Qual      1937 non-null   object \n",
      " 65  Garage Cond      1937 non-null   object \n",
      " 66  Paved Drive      2051 non-null   object \n",
      " 67  Wood Deck SF     2051 non-null   int64  \n",
      " 68  Open Porch SF    2051 non-null   int64  \n",
      " 69  Enclosed Porch   2051 non-null   int64  \n",
      " 70  3Ssn Porch       2051 non-null   int64  \n",
      " 71  Screen Porch     2051 non-null   int64  \n",
      " 72  Pool Area        2051 non-null   int64  \n",
      " 73  Pool QC          9 non-null      object \n",
      " 74  Fence            400 non-null    object \n",
      " 75  Misc Feature     65 non-null     object \n",
      " 76  Misc Val         2051 non-null   int64  \n",
      " 77  Mo Sold          2051 non-null   int64  \n",
      " 78  Yr Sold          2051 non-null   int64  \n",
      " 79  Sale Type        2051 non-null   object \n",
      " 80  SalePrice        2051 non-null   int64  \n",
      "dtypes: float64(11), int64(28), object(42)\n",
      "memory usage: 1.3+ MB\n"
     ]
    }
   ],
   "source": [
    "train_df.info()"
   ]
  },
  {
   "cell_type": "markdown",
   "id": "e65b2fb2",
   "metadata": {},
   "source": [
    "###### Rename Columns"
   ]
  },
  {
   "cell_type": "code",
   "execution_count": 7,
   "id": "65163fa2",
   "metadata": {},
   "outputs": [
    {
     "data": {
      "text/plain": [
       "Index(['Id', 'PID', 'MS SubClass', 'MS Zoning', 'Lot Frontage', 'Lot Area',\n",
       "       'Street', 'Alley', 'Lot Shape', 'Land Contour', 'Utilities',\n",
       "       'Lot Config', 'Land Slope', 'Neighborhood', 'Condition 1',\n",
       "       'Condition 2', 'Bldg Type', 'House Style', 'Overall Qual',\n",
       "       'Overall Cond', 'Year Built', 'Year Remod/Add', 'Roof Style',\n",
       "       'Roof Matl', 'Exterior 1st', 'Exterior 2nd', 'Mas Vnr Type',\n",
       "       'Mas Vnr Area', 'Exter Qual', 'Exter Cond', 'Foundation', 'Bsmt Qual',\n",
       "       'Bsmt Cond', 'Bsmt Exposure', 'BsmtFin Type 1', 'BsmtFin SF 1',\n",
       "       'BsmtFin Type 2', 'BsmtFin SF 2', 'Bsmt Unf SF', 'Total Bsmt SF',\n",
       "       'Heating', 'Heating QC', 'Central Air', 'Electrical', '1st Flr SF',\n",
       "       '2nd Flr SF', 'Low Qual Fin SF', 'Gr Liv Area', 'Bsmt Full Bath',\n",
       "       'Bsmt Half Bath', 'Full Bath', 'Half Bath', 'Bedroom AbvGr',\n",
       "       'Kitchen AbvGr', 'Kitchen Qual', 'TotRms AbvGrd', 'Functional',\n",
       "       'Fireplaces', 'Fireplace Qu', 'Garage Type', 'Garage Yr Blt',\n",
       "       'Garage Finish', 'Garage Cars', 'Garage Area', 'Garage Qual',\n",
       "       'Garage Cond', 'Paved Drive', 'Wood Deck SF', 'Open Porch SF',\n",
       "       'Enclosed Porch', '3Ssn Porch', 'Screen Porch', 'Pool Area', 'Pool QC',\n",
       "       'Fence', 'Misc Feature', 'Misc Val', 'Mo Sold', 'Yr Sold', 'Sale Type',\n",
       "       'SalePrice'],\n",
       "      dtype='object')"
      ]
     },
     "execution_count": 7,
     "metadata": {},
     "output_type": "execute_result"
    }
   ],
   "source": [
    "train_df.columns"
   ]
  },
  {
   "cell_type": "code",
   "execution_count": 8,
   "id": "19323a0b",
   "metadata": {},
   "outputs": [],
   "source": [
    "# edit column names -> lower case -> replace space with _\n",
    "\n",
    "train_df.columns= train_df.columns.str.lower()\n",
    "train_df.columns = train_df.columns.str.replace(' ','_')\n",
    "\n",
    "test_df.columns = test_df.columns.str.lower()\n",
    "test_df.columns = test_df.columns.str.replace(' ','_')"
   ]
  },
  {
   "cell_type": "code",
   "execution_count": 9,
   "id": "173d37d3",
   "metadata": {},
   "outputs": [],
   "source": [
    "# convert year to age train_df\n",
    "\n",
    "train_df['house_age'] = train_df['yr_sold'] - train_df['year_built']\n",
    "train_df['reno_age'] = train_df['yr_sold'] - train_df['year_remod/add']\n",
    "train_df['garage_age'] = train_df['yr_sold'] - train_df['garage_yr_blt']\n",
    "\n",
    "train_df.drop(columns=['year_built', 'year_remod/add', 'garage_yr_blt'],inplace = True)"
   ]
  },
  {
   "cell_type": "code",
   "execution_count": 10,
   "id": "4009819c",
   "metadata": {},
   "outputs": [],
   "source": [
    "#convert year to age test_df\n",
    "\n",
    "test_df['house_age'] = test_df['yr_sold'] - test_df['year_built']\n",
    "test_df['reno_age'] = test_df['yr_sold'] - test_df['year_remod/add']\n",
    "test_df['garage_age'] = test_df['yr_sold'] - test_df['garage_yr_blt']\n",
    "\n",
    "test_df.drop(columns=['year_built', 'year_remod/add', 'garage_yr_blt'],inplace = True)"
   ]
  },
  {
   "cell_type": "code",
   "execution_count": 11,
   "id": "c34e1267",
   "metadata": {},
   "outputs": [
    {
     "data": {
      "text/plain": [
       "160"
      ]
     },
     "execution_count": 11,
     "metadata": {},
     "output_type": "execute_result"
    }
   ],
   "source": [
    "test_df['lot_frontage'].isnull().sum()"
   ]
  },
  {
   "cell_type": "code",
   "execution_count": 12,
   "id": "a4b6e299",
   "metadata": {},
   "outputs": [
    {
     "data": {
      "text/plain": [
       "45"
      ]
     },
     "execution_count": 12,
     "metadata": {},
     "output_type": "execute_result"
    }
   ],
   "source": [
    "test_df['garage_age'].isnull().sum()"
   ]
  },
  {
   "cell_type": "markdown",
   "id": "b33ab344",
   "metadata": {},
   "source": [
    "### Cleaning Train Dataset"
   ]
  },
  {
   "cell_type": "markdown",
   "id": "41785025",
   "metadata": {},
   "source": [
    "###### Dropping features with high percentage of NaNs "
   ]
  },
  {
   "cell_type": "code",
   "execution_count": 13,
   "id": "5f383ef4",
   "metadata": {},
   "outputs": [
    {
     "data": {
      "image/png": "[encoded data removed]",
      "text/plain": [
       "<Figure size 360x360 with 1 Axes>"
      ]
     },
     "metadata": {
      "needs_background": "light"
     },
     "output_type": "display_data"
    }
   ],
   "source": [
    "y = train_df.isnull().sum().sort_values(ascending = False).index[0:25]\n",
    "width = train_df.isnull().sum().sort_values(ascending = False).values[0:25]\n",
    "fig, ax = plt.subplots(figsize=(5,5))\n",
    "right_side = ax.spines[\"right\"]\n",
    "right_side.set_visible(False)\n",
    "top_side = ax.spines[\"top\"]\n",
    "top_side.set_visible(False)\n",
    "plt.barh(y, width,color='pink')\n",
    "plt.title(\"Train df NaNs\")\n",
    "for index, value in enumerate(width):\n",
    "    plt.text(value + 20, index,\n",
    "             str(value))\n",
    "  \n",
    "plt.show()"
   ]
  },
  {
   "cell_type": "code",
   "execution_count": 14,
   "id": "0de0b2e7",
   "metadata": {},
   "outputs": [
    {
     "data": {
      "image/png": "[encoded data removed]",
      "text/plain": [
       "<Figure size 360x360 with 1 Axes>"
      ]
     },
     "metadata": {
      "needs_background": "light"
     },
     "output_type": "display_data"
    }
   ],
   "source": [
    "y = test_df.isnull().sum().sort_values(ascending = False).index[0:19]\n",
    "width = test_df.isnull().sum().sort_values(ascending = False).values[0:19]\n",
    "fig, ax = plt.subplots(figsize=(5,5))\n",
    "right_side = ax.spines[\"right\"]\n",
    "right_side.set_visible(False)\n",
    "top_side = ax.spines[\"top\"]\n",
    "top_side.set_visible(False)\n",
    "plt.barh(y, width,color='purple')\n",
    "plt.title(\"Test df NaNs\")\n",
    "for index, value in enumerate(width):\n",
    "    plt.text(value + 20, index,\n",
    "             str(value))\n",
    "  \n",
    "plt.show()"
   ]
  },
  {
   "cell_type": "markdown",
   "id": "d17542e9",
   "metadata": {},
   "source": [
    "Features like pool_qc, misc_feature, alley, fence, fireplace_qu have a high number of NaNs."
   ]
  },
  {
   "cell_type": "code",
   "execution_count": 15,
   "id": "fa4193ba",
   "metadata": {},
   "outputs": [
    {
     "data": {
      "text/plain": [
       "0.42613359336908824"
      ]
     },
     "execution_count": 15,
     "metadata": {},
     "output_type": "execute_result"
    }
   ],
   "source": [
    "# % NaNs for pool_qc\n",
    "\n",
    "874/2051"
   ]
  },
  {
   "cell_type": "code",
   "execution_count": 16,
   "id": "27b177c9",
   "metadata": {},
   "outputs": [
    {
     "data": {
      "text/plain": [
       "0.20575329107752316"
      ]
     },
     "execution_count": 16,
     "metadata": {},
     "output_type": "execute_result"
    }
   ],
   "source": [
    "# % NaNs for fireplace_qu\n",
    "\n",
    "422 / 2051"
   ]
  },
  {
   "cell_type": "code",
   "execution_count": 17,
   "id": "ff1f393b",
   "metadata": {},
   "outputs": [],
   "source": [
    "train_df.drop(columns = ['pool_qc', 'misc_feature', 'alley', 'fence', 'fireplace_qu'], inplace = True)\n",
    "test_df.drop(columns = ['pool_qc', 'misc_feature', 'alley', 'fence', 'fireplace_qu'], inplace = True)"
   ]
  },
  {
   "cell_type": "markdown",
   "id": "5ba5c5f3",
   "metadata": {},
   "source": [
    "Dropping these 5 columns as they have a high % NaNs. Not only does a high % of NaN not feed the model any relavent info, it may even introduce noise affecting the accuracy.<br>\n",
    "Furthermore, comparing the baseline RMSE scores for dropping and replacing with the mean, dropping them gave a better RMSE score of "
   ]
  },
  {
   "cell_type": "markdown",
   "id": "6dd109de",
   "metadata": {},
   "source": [
    "###### Ordinal Features"
   ]
  },
  {
   "cell_type": "markdown",
   "id": "7ab4589d",
   "metadata": {},
   "source": [
    "From data dictionary, we can see that some features are ordinal in nature. Convert these features to ordinal numbers to better represent the scale of the feature."
   ]
  },
  {
   "cell_type": "code",
   "execution_count": 18,
   "id": "9557a492",
   "metadata": {},
   "outputs": [],
   "source": [
    "ordinal_features = ['exter_qual', 'exter_cond', 'bsmt_qual', 'bsmt_cond', 'kitchen_qual', 'garage_qual',\n",
    "           'garage_cond', 'heating_qc']"
   ]
  },
  {
   "cell_type": "code",
   "execution_count": 19,
   "id": "8ddc8a42",
   "metadata": {},
   "outputs": [],
   "source": [
    "# convert to ordinal features\n",
    "\n",
    "# train_df\n",
    "\n",
    "for x in ordinal_features:\n",
    "    train_df[x].fillna(0, inplace=True)\n",
    "    train_df[x].replace('Po', 1, inplace=True)\n",
    "    train_df[x].replace('Fa', 2, inplace=True)\n",
    "    train_df[x].replace('TA', 3, inplace=True)\n",
    "    train_df[x].replace('Gd', 4, inplace=True)\n",
    "    train_df[x].replace('Ex', 5, inplace=True)\n",
    "    \n",
    "# test_df\n",
    "\n",
    "for x in ordinal_features:\n",
    "    test_df[x].fillna(0, inplace=True)\n",
    "    test_df[x].replace('Po', 1, inplace=True)\n",
    "    test_df[x].replace('Fa', 2, inplace=True)\n",
    "    test_df[x].replace('TA', 3, inplace=True)\n",
    "    test_df[x].replace('Gd', 4, inplace=True)\n",
    "    test_df[x].replace('Ex', 5, inplace=True)"
   ]
  },
  {
   "cell_type": "markdown",
   "id": "08f4c6c7",
   "metadata": {},
   "source": [
    "###### Impute Numerical NaN values"
   ]
  },
  {
   "cell_type": "code",
   "execution_count": 20,
   "id": "57fc1e2b",
   "metadata": {},
   "outputs": [],
   "source": [
    "train_df_num = train_df.select_dtypes(include=np.number).columns.tolist()"
   ]
  },
  {
   "cell_type": "code",
   "execution_count": 21,
   "id": "180e9fa4",
   "metadata": {},
   "outputs": [
    {
     "data": {
      "text/plain": [
       "['id',\n",
       " 'pid',\n",
       " 'ms_subclass',\n",
       " 'lot_frontage',\n",
       " 'lot_area',\n",
       " 'overall_qual',\n",
       " 'overall_cond',\n",
       " 'mas_vnr_area',\n",
       " 'exter_qual',\n",
       " 'exter_cond',\n",
       " 'bsmt_qual',\n",
       " 'bsmt_cond',\n",
       " 'bsmtfin_sf_1',\n",
       " 'bsmtfin_sf_2',\n",
       " 'bsmt_unf_sf',\n",
       " 'total_bsmt_sf',\n",
       " 'heating_qc',\n",
       " '1st_flr_sf',\n",
       " '2nd_flr_sf',\n",
       " 'low_qual_fin_sf',\n",
       " 'gr_liv_area',\n",
       " 'bsmt_full_bath',\n",
       " 'bsmt_half_bath',\n",
       " 'full_bath',\n",
       " 'half_bath',\n",
       " 'bedroom_abvgr',\n",
       " 'kitchen_abvgr',\n",
       " 'kitchen_qual',\n",
       " 'totrms_abvgrd',\n",
       " 'fireplaces',\n",
       " 'garage_cars',\n",
       " 'garage_area',\n",
       " 'garage_qual',\n",
       " 'garage_cond',\n",
       " 'wood_deck_sf',\n",
       " 'open_porch_sf',\n",
       " 'enclosed_porch',\n",
       " '3ssn_porch',\n",
       " 'screen_porch',\n",
       " 'pool_area',\n",
       " 'misc_val',\n",
       " 'mo_sold',\n",
       " 'yr_sold',\n",
       " 'saleprice',\n",
       " 'house_age',\n",
       " 'reno_age',\n",
       " 'garage_age']"
      ]
     },
     "execution_count": 21,
     "metadata": {},
     "output_type": "execute_result"
    }
   ],
   "source": [
    "train_df_num"
   ]
  },
  {
   "cell_type": "code",
   "execution_count": 22,
   "id": "4c9c0d2f",
   "metadata": {},
   "outputs": [
    {
     "data": {
      "text/plain": [
       "lot_frontage       330\n",
       "garage_age         114\n",
       "mas_vnr_area        22\n",
       "bsmt_half_bath       2\n",
       "bsmt_full_bath       2\n",
       "bsmtfin_sf_1         1\n",
       "garage_cars          1\n",
       "garage_area          1\n",
       "total_bsmt_sf        1\n",
       "bsmt_unf_sf          1\n",
       "bsmtfin_sf_2         1\n",
       "screen_porch         0\n",
       "pool_area            0\n",
       "totrms_abvgrd        0\n",
       "misc_val             0\n",
       "mo_sold              0\n",
       "3ssn_porch           0\n",
       "enclosed_porch       0\n",
       "open_porch_sf        0\n",
       "wood_deck_sf         0\n",
       "garage_cond          0\n",
       "yr_sold              0\n",
       "saleprice            0\n",
       "garage_qual          0\n",
       "house_age            0\n",
       "reno_age             0\n",
       "fireplaces           0\n",
       "id                   0\n",
       "kitchen_qual         0\n",
       "bsmt_cond            0\n",
       "ms_subclass          0\n",
       "lot_area             0\n",
       "overall_qual         0\n",
       "overall_cond         0\n",
       "exter_qual           0\n",
       "exter_cond           0\n",
       "bsmt_qual            0\n",
       "heating_qc           0\n",
       "kitchen_abvgr        0\n",
       "1st_flr_sf           0\n",
       "2nd_flr_sf           0\n",
       "low_qual_fin_sf      0\n",
       "gr_liv_area          0\n",
       "pid                  0\n",
       "half_bath            0\n",
       "bedroom_abvgr        0\n",
       "full_bath            0\n",
       "dtype: int64"
      ]
     },
     "execution_count": 22,
     "metadata": {},
     "output_type": "execute_result"
    }
   ],
   "source": [
    "train_df[train_df_num].isnull().sum().sort_values(ascending=False)"
   ]
  },
  {
   "cell_type": "markdown",
   "id": "ed1169d3",
   "metadata": {},
   "source": [
    "Lot Frontage\n"
   ]
  },
  {
   "cell_type": "markdown",
   "id": "b8aeaae0",
   "metadata": {},
   "source": [
    "Lot Frontage NaN % is relatively high and it seems to be missing completely at random. <br>\n",
    "\n",
    "According to this [website](https://www.gimme-shelter.com/frontage-50043/), all houses have a lot frontage. It is the width of the lot.<br>\n",
    "\n",
    "Opt to impute with mean as both values for both data sets are not far off.<br>"
   ]
  },
  {
   "cell_type": "code",
   "execution_count": 23,
   "id": "94f04e24",
   "metadata": {},
   "outputs": [
    {
     "name": "stdout",
     "output_type": "stream",
     "text": [
      "NaNs:  330\n",
      "Total:  2051\n",
      "Percentage:  16.089712335446123\n"
     ]
    }
   ],
   "source": [
    "print('NaNs: ', train_df['lot_frontage'].isnull().sum())\n",
    "print('Total: ', train_df.shape[0])\n",
    "print('Percentage: ', (train_df['lot_frontage'].isnull().sum()/train_df.shape[0])*100)"
   ]
  },
  {
   "cell_type": "code",
   "execution_count": 24,
   "id": "cbef4193",
   "metadata": {},
   "outputs": [
    {
     "name": "stdout",
     "output_type": "stream",
     "text": [
      "69.05520046484602\n",
      "68.0\n"
     ]
    }
   ],
   "source": [
    "print(train_df['lot_frontage'].mean())\n",
    "print(train_df['lot_frontage'].median())"
   ]
  },
  {
   "cell_type": "code",
   "execution_count": 25,
   "id": "197a9264",
   "metadata": {},
   "outputs": [
    {
     "name": "stdout",
     "output_type": "stream",
     "text": [
      "69.54596100278552\n",
      "68.0\n"
     ]
    }
   ],
   "source": [
    "print(test_df['lot_frontage'].mean())\n",
    "print(test_df['lot_frontage'].median())"
   ]
  },
  {
   "cell_type": "code",
   "execution_count": 26,
   "id": "8b0d2f9b",
   "metadata": {},
   "outputs": [],
   "source": [
    "# As the median and the mean for lot_frontage is about the same, fill lot_frontage nan with lot_frontage mean\n",
    "\n",
    "train_df['lot_frontage'].fillna(train_df['lot_frontage'].mean(),inplace=True)\n",
    "\n",
    "# imputing test_df does not affect kaggle score\n",
    "\n",
    "test_df['lot_frontage'].fillna(test_df['lot_frontage'].mean(),inplace=True)"
   ]
  },
  {
   "cell_type": "markdown",
   "id": "df4858fa",
   "metadata": {},
   "source": [
    "Garage Age"
   ]
  },
  {
   "cell_type": "markdown",
   "id": "d3309042",
   "metadata": {},
   "source": [
    "Similar to lot frontage, garage_age NaN % is relatively high. <br>\n",
    "By replacing all NaN with 0 means that the garage is relatively new, and by domain knowledge means that the price of the house will increase, which is untrue as NaN means that the house does not have a garage, which will actually bring down the price. Opt to impute with mean."
   ]
  },
  {
   "cell_type": "code",
   "execution_count": 27,
   "id": "5350e8ea",
   "metadata": {},
   "outputs": [
    {
     "name": "stdout",
     "output_type": "stream",
     "text": [
      "NaNs:  114\n",
      "Total:  2051\n",
      "Percentage:  5.558264261335934\n"
     ]
    }
   ],
   "source": [
    "print('NaNs: ', train_df['garage_age'].isnull().sum())\n",
    "print('Total: ', train_df.shape[0])\n",
    "print('Percentage: ', (train_df['garage_age'].isnull().sum()/train_df.shape[0])*100)"
   ]
  },
  {
   "cell_type": "code",
   "execution_count": 28,
   "id": "c90611e4",
   "metadata": {},
   "outputs": [
    {
     "name": "stdout",
     "output_type": "stream",
     "text": [
      "29.070211667527104\n",
      "28.0\n",
      "31.04921968787515\n",
      "30.0\n"
     ]
    }
   ],
   "source": [
    "print(train_df['garage_age'].mean())\n",
    "print(train_df['garage_age'].median())\n",
    "print(test_df['garage_age'].mean())\n",
    "print(test_df['garage_age'].median())"
   ]
  },
  {
   "cell_type": "code",
   "execution_count": 29,
   "id": "4ada3e70",
   "metadata": {},
   "outputs": [],
   "source": [
    "# # fill garage_age nan with garage_age mean\n",
    "\n",
    "# train_df['garage_age'].fillna(train_df['garage_age'].mean(),inplace=True)\n",
    "\n",
    "# test_df['garage_age'].fillna(test_df['garage_age'].mean(),inplace=True)"
   ]
  },
  {
   "cell_type": "code",
   "execution_count": 30,
   "id": "cabcd537",
   "metadata": {},
   "outputs": [],
   "source": [
    "# Replace remaining numerical feature NaNs with 0, as they are only a small percentage of the data."
   ]
  },
  {
   "cell_type": "code",
   "execution_count": 31,
   "id": "df744429",
   "metadata": {},
   "outputs": [],
   "source": [
    "# drop garage_age\n",
    "\n",
    "train_df.drop(columns = 'garage_age', inplace = True)\n",
    "\n",
    "test_df.drop(columns = 'garage_age', inplace = True)"
   ]
  },
  {
   "cell_type": "code",
   "execution_count": 32,
   "id": "5b692ab4",
   "metadata": {},
   "outputs": [],
   "source": [
    "# replace NaN with 0\n",
    "\n",
    "train_num_list = train_df.select_dtypes(exclude='object').columns.tolist()\n",
    "\n",
    "for feature in train_num_list:\n",
    "    train_df[feature].fillna(0, inplace = True)"
   ]
  },
  {
   "cell_type": "code",
   "execution_count": 33,
   "id": "4253997e",
   "metadata": {},
   "outputs": [
    {
     "data": {
      "text/plain": [
       "id                 0\n",
       "wood_deck_sf       0\n",
       "bedroom_abvgr      0\n",
       "kitchen_abvgr      0\n",
       "kitchen_qual       0\n",
       "totrms_abvgrd      0\n",
       "fireplaces         0\n",
       "garage_cars        0\n",
       "garage_area        0\n",
       "garage_qual        0\n",
       "garage_cond        0\n",
       "open_porch_sf      0\n",
       "pid                0\n",
       "enclosed_porch     0\n",
       "3ssn_porch         0\n",
       "screen_porch       0\n",
       "pool_area          0\n",
       "misc_val           0\n",
       "mo_sold            0\n",
       "yr_sold            0\n",
       "saleprice          0\n",
       "house_age          0\n",
       "half_bath          0\n",
       "full_bath          0\n",
       "bsmt_half_bath     0\n",
       "bsmt_full_bath     0\n",
       "ms_subclass        0\n",
       "lot_frontage       0\n",
       "lot_area           0\n",
       "overall_qual       0\n",
       "overall_cond       0\n",
       "mas_vnr_area       0\n",
       "exter_qual         0\n",
       "exter_cond         0\n",
       "bsmt_qual          0\n",
       "bsmt_cond          0\n",
       "bsmtfin_sf_1       0\n",
       "bsmtfin_sf_2       0\n",
       "bsmt_unf_sf        0\n",
       "total_bsmt_sf      0\n",
       "heating_qc         0\n",
       "1st_flr_sf         0\n",
       "2nd_flr_sf         0\n",
       "low_qual_fin_sf    0\n",
       "gr_liv_area        0\n",
       "reno_age           0\n",
       "dtype: int64"
      ]
     },
     "execution_count": 33,
     "metadata": {},
     "output_type": "execute_result"
    }
   ],
   "source": [
    "train_df[train_num_list].isnull().sum().sort_values(ascending=False)"
   ]
  },
  {
   "cell_type": "markdown",
   "id": "e2f36999",
   "metadata": {},
   "source": [
    "##### Impute NaN values for train dataset categorical"
   ]
  },
  {
   "cell_type": "code",
   "execution_count": 34,
   "id": "5da11862",
   "metadata": {},
   "outputs": [
    {
     "data": {
      "text/plain": [
       "garage_finish     114\n",
       "garage_type       113\n",
       "bsmt_exposure      58\n",
       "bsmtfin_type_2     56\n",
       "bsmtfin_type_1     55\n",
       "mas_vnr_type       22\n",
       "ms_zoning           0\n",
       "exterior_2nd        0\n",
       "paved_drive         0\n",
       "functional          0\n",
       "electrical          0\n",
       "central_air         0\n",
       "heating             0\n",
       "foundation          0\n",
       "exterior_1st        0\n",
       "street              0\n",
       "roof_matl           0\n",
       "roof_style          0\n",
       "house_style         0\n",
       "bldg_type           0\n",
       "condition_2         0\n",
       "condition_1         0\n",
       "neighborhood        0\n",
       "land_slope          0\n",
       "lot_config          0\n",
       "utilities           0\n",
       "land_contour        0\n",
       "lot_shape           0\n",
       "sale_type           0\n",
       "dtype: int64"
      ]
     },
     "execution_count": 34,
     "metadata": {},
     "output_type": "execute_result"
    }
   ],
   "source": [
    "train_cat_list = train_df.select_dtypes(include='object').columns.tolist()\n",
    "\n",
    "train_df[train_cat_list].isnull().sum().sort_values(ascending=False)"
   ]
  },
  {
   "cell_type": "markdown",
   "id": "cfa091e4",
   "metadata": {},
   "source": [
    "For the catagorical features with NaN, they represent that the feature simply does not exist in the home. Replace all NaN with None."
   ]
  },
  {
   "cell_type": "code",
   "execution_count": 35,
   "id": "b83cbae0",
   "metadata": {},
   "outputs": [],
   "source": [
    "for feature in train_cat_list:\n",
    "    train_df[feature].fillna('None', inplace = True)"
   ]
  },
  {
   "cell_type": "code",
   "execution_count": 36,
   "id": "fbb81b12",
   "metadata": {},
   "outputs": [
    {
     "data": {
      "text/plain": [
       "ms_zoning         0\n",
       "exterior_2nd      0\n",
       "paved_drive       0\n",
       "garage_finish     0\n",
       "garage_type       0\n",
       "functional        0\n",
       "electrical        0\n",
       "central_air       0\n",
       "heating           0\n",
       "bsmtfin_type_2    0\n",
       "bsmtfin_type_1    0\n",
       "bsmt_exposure     0\n",
       "foundation        0\n",
       "mas_vnr_type      0\n",
       "exterior_1st      0\n",
       "street            0\n",
       "roof_matl         0\n",
       "roof_style        0\n",
       "house_style       0\n",
       "bldg_type         0\n",
       "condition_2       0\n",
       "condition_1       0\n",
       "neighborhood      0\n",
       "land_slope        0\n",
       "lot_config        0\n",
       "utilities         0\n",
       "land_contour      0\n",
       "lot_shape         0\n",
       "sale_type         0\n",
       "dtype: int64"
      ]
     },
     "execution_count": 36,
     "metadata": {},
     "output_type": "execute_result"
    }
   ],
   "source": [
    "train_df[train_cat_list].isnull().sum().sort_values(ascending=False)"
   ]
  },
  {
   "cell_type": "markdown",
   "id": "b8d578fc",
   "metadata": {},
   "source": [
    "### Exploratory Data Analysis"
   ]
  },
  {
   "cell_type": "markdown",
   "id": "d8798220",
   "metadata": {},
   "source": [
    "###### Exploring Pearson's Correlation for each feature."
   ]
  },
  {
   "cell_type": "code",
   "execution_count": 37,
   "id": "55014a2a",
   "metadata": {},
   "outputs": [
    {
     "data": {
      "text/plain": [
       "saleprice          1.000000\n",
       "overall_qual       0.800207\n",
       "exter_qual         0.712146\n",
       "gr_liv_area        0.697038\n",
       "kitchen_qual       0.692336\n",
       "garage_area        0.649897\n",
       "garage_cars        0.647781\n",
       "total_bsmt_sf      0.629303\n",
       "1st_flr_sf         0.618486\n",
       "bsmt_qual          0.612188\n",
       "full_bath          0.537969\n",
       "totrms_abvgrd      0.504014\n",
       "mas_vnr_area       0.503579\n",
       "fireplaces         0.471093\n",
       "heating_qc         0.458354\n",
       "bsmtfin_sf_1       0.423856\n",
       "open_porch_sf      0.333476\n",
       "wood_deck_sf       0.326490\n",
       "lot_frontage       0.325850\n",
       "lot_area           0.296566\n",
       "garage_qual        0.285281\n",
       "bsmt_full_bath     0.283332\n",
       "half_bath          0.283001\n",
       "garage_cond        0.265021\n",
       "2nd_flr_sf         0.248452\n",
       "bsmt_cond          0.225075\n",
       "bsmt_unf_sf        0.190861\n",
       "bedroom_abvgr      0.137067\n",
       "screen_porch       0.134581\n",
       "3ssn_porch         0.048732\n",
       "exter_cond         0.036418\n",
       "mo_sold            0.032735\n",
       "pool_area          0.023106\n",
       "bsmtfin_sf_2       0.016432\n",
       "misc_val          -0.007375\n",
       "yr_sold           -0.015203\n",
       "low_qual_fin_sf   -0.041594\n",
       "bsmt_half_bath    -0.045290\n",
       "id                -0.051398\n",
       "ms_subclass       -0.087335\n",
       "overall_cond      -0.097019\n",
       "kitchen_abvgr     -0.125444\n",
       "enclosed_porch    -0.135656\n",
       "pid               -0.255052\n",
       "reno_age          -0.551716\n",
       "house_age         -0.571881\n",
       "Name: saleprice, dtype: float64"
      ]
     },
     "execution_count": 37,
     "metadata": {},
     "output_type": "execute_result"
    }
   ],
   "source": [
    "corr = train_df.corr()\n",
    "corr['saleprice'].sort_values(ascending = False)"
   ]
  },
  {
   "cell_type": "markdown",
   "id": "485c17df",
   "metadata": {},
   "source": [
    "There is a large number of features in the dataset, and some features may predict the target variable better than others. Dropping features that do not have a strong positive or negative Pearson's correlation with the target variable to reduce noise."
   ]
  },
  {
   "cell_type": "code",
   "execution_count": 38,
   "id": "d362ace2",
   "metadata": {},
   "outputs": [
    {
     "data": {
      "text/plain": [
       "Index(['saleprice', 'overall_qual', 'exter_qual', 'gr_liv_area',\n",
       "       'kitchen_qual', 'garage_area', 'garage_cars', 'total_bsmt_sf',\n",
       "       '1st_flr_sf', 'bsmt_qual', 'full_bath', 'totrms_abvgrd', 'mas_vnr_area',\n",
       "       'fireplaces', 'heating_qc', 'bsmtfin_sf_1', 'open_porch_sf',\n",
       "       'wood_deck_sf', 'lot_frontage', 'lot_area', 'garage_qual',\n",
       "       'bsmt_full_bath', 'half_bath', 'garage_cond', '2nd_flr_sf', 'bsmt_cond',\n",
       "       'bsmt_unf_sf', 'bedroom_abvgr', 'screen_porch', '3ssn_porch',\n",
       "       'exter_cond', 'mo_sold', 'pool_area', 'bsmtfin_sf_2', 'misc_val',\n",
       "       'yr_sold', 'low_qual_fin_sf', 'bsmt_half_bath', 'id', 'ms_subclass',\n",
       "       'overall_cond', 'kitchen_abvgr', 'enclosed_porch', 'pid', 'reno_age',\n",
       "       'house_age'],\n",
       "      dtype='object')"
      ]
     },
     "execution_count": 38,
     "metadata": {},
     "output_type": "execute_result"
    }
   ],
   "source": [
    "corr['saleprice'].sort_values(ascending = False).index"
   ]
  },
  {
   "cell_type": "code",
   "execution_count": 39,
   "id": "89da1626",
   "metadata": {
    "scrolled": true
   },
   "outputs": [],
   "source": [
    "# 0.2\n",
    "\n",
    "train_df.drop(columns = ['bsmt_unf_sf', 'bedroom_abvgr',\n",
    "       'screen_porch', '3ssn_porch', 'exter_cond', 'mo_sold', 'pool_area', 'bsmtfin_sf_2', 'misc_val', 'yr_sold', 'low_qual_fin_sf',\n",
    "       'bsmt_half_bath', 'ms_subclass', 'overall_cond', 'kitchen_abvgr',\n",
    "       'enclosed_porch'], inplace = True)"
   ]
  },
  {
   "cell_type": "code",
   "execution_count": 40,
   "id": "7fad5ca6",
   "metadata": {},
   "outputs": [],
   "source": [
    "# # 0.3\n",
    "\n",
    "# train_df.drop(columns = ['lot_area',\n",
    "#        'garage_qual', 'bsmt_full_bath', 'half_bath', 'garage_cond',\n",
    "#        '2nd_flr_sf', 'bsmt_cond', 'bsmt_unf_sf', 'bedroom_abvgr',\n",
    "#        'screen_porch', '3ssn_porch', 'exter_cond', 'mo_sold',\n",
    "#        'pool_area', 'bsmtfin_sf_2', 'misc_val', 'yr_sold', 'low_qual_fin_sf',\n",
    "#        'bsmt_half_bath', 'ms_subclass', 'overall_cond', 'kitchen_abvgr',\n",
    "#        'enclosed_porch', 'pid'], inplace = True)"
   ]
  },
  {
   "cell_type": "code",
   "execution_count": 41,
   "id": "962ad061",
   "metadata": {},
   "outputs": [
    {
     "data": {
      "text/plain": [
       "(2051, 59)"
      ]
     },
     "execution_count": 41,
     "metadata": {},
     "output_type": "execute_result"
    }
   ],
   "source": [
    "train_df.shape"
   ]
  },
  {
   "cell_type": "markdown",
   "id": "7a906162",
   "metadata": {},
   "source": [
    "###### Plotting each numerical feature against target variable to check for any irregularities or outliers."
   ]
  },
  {
   "cell_type": "code",
   "execution_count": 42,
   "id": "57481656",
   "metadata": {},
   "outputs": [],
   "source": [
    "# for feature in train_df.select_dtypes(exclude='object').columns.tolist():\n",
    "#     plt.figure(figsize= ( 10, 5 ))\n",
    "#     sns.scatterplot(data=train_df, x=feature, y='saleprice')\n",
    "#     plt.show()"
   ]
  },
  {
   "cell_type": "code",
   "execution_count": 43,
   "id": "c11d10f2",
   "metadata": {},
   "outputs": [],
   "source": [
    "# remove outliers\n",
    "\n",
    "train_df = train_df[(train_df['lot_frontage'] <=300)]\n",
    "train_df = train_df[(train_df['mas_vnr_area'] <=1400)]\n",
    "train_df = train_df[(train_df['bsmtfin_sf_1'] <=3000)]\n",
    "train_df = train_df[(train_df['total_bsmt_sf'] <=4000)]\n",
    "train_df = train_df[(train_df['1st_flr_sf'] <=3000)]\n",
    "train_df = train_df[(train_df['gr_liv_area'] <=4000)]\n",
    "train_df = train_df[(train_df['wood_deck_sf'] <=1000)]"
   ]
  },
  {
   "cell_type": "markdown",
   "id": "26b43bef",
   "metadata": {},
   "source": [
    "###### Plotting histograms to see the distribution of each numerical feature."
   ]
  },
  {
   "cell_type": "code",
   "execution_count": 44,
   "id": "cd963233",
   "metadata": {},
   "outputs": [],
   "source": [
    "# for feature in train_df.select_dtypes(exclude='object').columns.tolist():\n",
    "#     plt.figure(figsize= ( 10, 5 ))\n",
    "#     sns.histplot(data=train_df, x=feature, bins = 50, kde = True)\n",
    "#     plt.show()"
   ]
  },
  {
   "cell_type": "markdown",
   "id": "ab996768",
   "metadata": {},
   "source": [
    "Histogram to see if the features are distributed normally. There are some features including our target variable that are right skewed."
   ]
  },
  {
   "cell_type": "markdown",
   "id": "6d749a07",
   "metadata": {},
   "source": [
    "###### Plotting box graphs to see if there is any relationships between each catagorical feature with our target variable."
   ]
  },
  {
   "cell_type": "code",
   "execution_count": 45,
   "id": "caf1f724",
   "metadata": {},
   "outputs": [],
   "source": [
    "# for feature in train_df.select_dtypes(include='object').columns.tolist():\n",
    "#     sns.boxplot(data=train_df, x=feature, y='saleprice')\n",
    "#     plt.show()"
   ]
  },
  {
   "cell_type": "markdown",
   "id": "bfc8e6b3",
   "metadata": {},
   "source": [
    "Boxplots to see the relation of each catagorical feature with the saleprice. We can see that some features like ms_zoning, neighborhood, condition_1, condition_2, exterior_1st, exterior_2nd, garage_type and sale_type has some relation with saleprice."
   ]
  },
  {
   "cell_type": "markdown",
   "id": "75042ada",
   "metadata": {},
   "source": [
    "### Cleaning Test Dataset"
   ]
  },
  {
   "cell_type": "markdown",
   "id": "13d4c226",
   "metadata": {},
   "source": [
    "###### Impute NaN values"
   ]
  },
  {
   "cell_type": "markdown",
   "id": "c36a43f5",
   "metadata": {},
   "source": [
    "Matching test dataframe colums with train dataframe columns. This will remove the same poorly correlated features from test dataset."
   ]
  },
  {
   "cell_type": "code",
   "execution_count": 46,
   "id": "1ddf31c4",
   "metadata": {},
   "outputs": [
    {
     "data": {
      "text/plain": [
       "(878, 74)"
      ]
     },
     "execution_count": 46,
     "metadata": {},
     "output_type": "execute_result"
    }
   ],
   "source": [
    "test_df.shape"
   ]
  },
  {
   "cell_type": "code",
   "execution_count": 47,
   "id": "d2ac0f9a",
   "metadata": {},
   "outputs": [
    {
     "data": {
      "text/plain": [
       "garage_finish     45\n",
       "garage_type       44\n",
       "bsmtfin_type_1    25\n",
       "bsmt_exposure     25\n",
       "bsmtfin_type_2    25\n",
       "                  ..\n",
       "bsmtfin_sf_2       0\n",
       "bsmt_unf_sf        0\n",
       "total_bsmt_sf      0\n",
       "pid                0\n",
       "reno_age           0\n",
       "Length: 74, dtype: int64"
      ]
     },
     "execution_count": 47,
     "metadata": {},
     "output_type": "execute_result"
    }
   ],
   "source": [
    "test_df.isnull().sum().sort_values(ascending = False)"
   ]
  },
  {
   "cell_type": "code",
   "execution_count": 48,
   "id": "2eb50627",
   "metadata": {},
   "outputs": [],
   "source": [
    "temp_list = train_df.columns.tolist()"
   ]
  },
  {
   "cell_type": "code",
   "execution_count": 49,
   "id": "6c42767c",
   "metadata": {},
   "outputs": [],
   "source": [
    "temp_list.remove('saleprice')"
   ]
  },
  {
   "cell_type": "code",
   "execution_count": 50,
   "id": "95c560e3",
   "metadata": {},
   "outputs": [],
   "source": [
    "test_df = test_df[temp_list]"
   ]
  },
  {
   "cell_type": "code",
   "execution_count": 51,
   "id": "094d964a",
   "metadata": {},
   "outputs": [
    {
     "data": {
      "text/plain": [
       "(878, 58)"
      ]
     },
     "execution_count": 51,
     "metadata": {},
     "output_type": "execute_result"
    }
   ],
   "source": [
    "test_df.shape"
   ]
  },
  {
   "cell_type": "markdown",
   "id": "04feeecc",
   "metadata": {},
   "source": [
    "##### Impute NaN values for test dataset numerical."
   ]
  },
  {
   "cell_type": "code",
   "execution_count": 52,
   "id": "95423204",
   "metadata": {},
   "outputs": [],
   "source": [
    "test_df_num = test_df.select_dtypes(exclude='object').columns.tolist()"
   ]
  },
  {
   "cell_type": "code",
   "execution_count": 53,
   "id": "e867e640",
   "metadata": {},
   "outputs": [
    {
     "data": {
      "text/plain": [
       "mas_vnr_area      1\n",
       "id                0\n",
       "bsmt_full_bath    0\n",
       "house_age         0\n",
       "open_porch_sf     0\n",
       "wood_deck_sf      0\n",
       "garage_cond       0\n",
       "garage_qual       0\n",
       "garage_area       0\n",
       "garage_cars       0\n",
       "fireplaces        0\n",
       "totrms_abvgrd     0\n",
       "kitchen_qual      0\n",
       "half_bath         0\n",
       "full_bath         0\n",
       "gr_liv_area       0\n",
       "pid               0\n",
       "2nd_flr_sf        0\n",
       "1st_flr_sf        0\n",
       "heating_qc        0\n",
       "total_bsmt_sf     0\n",
       "bsmtfin_sf_1      0\n",
       "bsmt_cond         0\n",
       "bsmt_qual         0\n",
       "exter_qual        0\n",
       "overall_qual      0\n",
       "lot_area          0\n",
       "lot_frontage      0\n",
       "reno_age          0\n",
       "dtype: int64"
      ]
     },
     "execution_count": 53,
     "metadata": {},
     "output_type": "execute_result"
    }
   ],
   "source": [
    "test_df[test_df_num].isnull().sum().sort_values(ascending=False)"
   ]
  },
  {
   "cell_type": "code",
   "execution_count": 54,
   "id": "a9e8ba8d",
   "metadata": {},
   "outputs": [
    {
     "name": "stderr",
     "output_type": "stream",
     "text": [
      "C:\\Users\\Darre\\AppData\\Local\\Packages\\PythonSoftwareFoundation.Python.3.9_qbz5n2kfra8p0\\LocalCache\\local-packages\\Python39\\site-packages\\pandas\\core\\generic.py:6392: SettingWithCopyWarning: \n",
      "A value is trying to be set on a copy of a slice from a DataFrame\n",
      "\n",
      "See the caveats in the documentation: https://pandas.pydata.org/pandas-docs/stable/user_guide/indexing.html#returning-a-view-versus-a-copy\n",
      "  return self._update_inplace(result)\n"
     ]
    }
   ],
   "source": [
    "for feature in test_df_num:\n",
    "    test_df[feature].fillna(0, inplace = True)"
   ]
  },
  {
   "cell_type": "markdown",
   "id": "0cea7227",
   "metadata": {},
   "source": [
    "Replace all NaNs with 0."
   ]
  },
  {
   "cell_type": "markdown",
   "id": "03fbfd2c",
   "metadata": {},
   "source": [
    "##### Impute NaN values for test dataset numerical categorical"
   ]
  },
  {
   "cell_type": "code",
   "execution_count": 55,
   "id": "032cf813",
   "metadata": {},
   "outputs": [
    {
     "data": {
      "text/plain": [
       "garage_finish     45\n",
       "garage_type       44\n",
       "bsmtfin_type_2    25\n",
       "bsmtfin_type_1    25\n",
       "bsmt_exposure     25\n",
       "electrical         1\n",
       "mas_vnr_type       1\n",
       "half_bath          0\n",
       "heating            0\n",
       "heating_qc         0\n",
       "central_air        0\n",
       "1st_flr_sf         0\n",
       "2nd_flr_sf         0\n",
       "gr_liv_area        0\n",
       "bsmt_full_bath     0\n",
       "full_bath          0\n",
       "id                 0\n",
       "kitchen_qual       0\n",
       "total_bsmt_sf      0\n",
       "functional         0\n",
       "fireplaces         0\n",
       "garage_cars        0\n",
       "garage_area        0\n",
       "garage_qual        0\n",
       "garage_cond        0\n",
       "paved_drive        0\n",
       "wood_deck_sf       0\n",
       "open_porch_sf      0\n",
       "sale_type          0\n",
       "house_age          0\n",
       "totrms_abvgrd      0\n",
       "bsmtfin_sf_1       0\n",
       "pid                0\n",
       "bsmt_cond          0\n",
       "ms_zoning          0\n",
       "lot_frontage       0\n",
       "lot_area           0\n",
       "street             0\n",
       "lot_shape          0\n",
       "land_contour       0\n",
       "utilities          0\n",
       "lot_config         0\n",
       "land_slope         0\n",
       "neighborhood       0\n",
       "condition_1        0\n",
       "condition_2        0\n",
       "bldg_type          0\n",
       "house_style        0\n",
       "overall_qual       0\n",
       "roof_style         0\n",
       "roof_matl          0\n",
       "exterior_1st       0\n",
       "exterior_2nd       0\n",
       "mas_vnr_area       0\n",
       "exter_qual         0\n",
       "foundation         0\n",
       "bsmt_qual          0\n",
       "reno_age           0\n",
       "dtype: int64"
      ]
     },
     "execution_count": 55,
     "metadata": {},
     "output_type": "execute_result"
    }
   ],
   "source": [
    "test_df.isnull().sum().sort_values(ascending = False)"
   ]
  },
  {
   "cell_type": "code",
   "execution_count": 56,
   "id": "bae80d49",
   "metadata": {},
   "outputs": [],
   "source": [
    "test_df_cat = test_df.select_dtypes(include='object').columns.tolist()"
   ]
  },
  {
   "cell_type": "code",
   "execution_count": 57,
   "id": "2b0bf7d3",
   "metadata": {},
   "outputs": [
    {
     "data": {
      "text/plain": [
       "garage_finish     45\n",
       "garage_type       44\n",
       "bsmtfin_type_2    25\n",
       "bsmtfin_type_1    25\n",
       "bsmt_exposure     25\n",
       "electrical         1\n",
       "mas_vnr_type       1\n",
       "ms_zoning          0\n",
       "exterior_2nd       0\n",
       "paved_drive        0\n",
       "functional         0\n",
       "central_air        0\n",
       "heating            0\n",
       "foundation         0\n",
       "exterior_1st       0\n",
       "street             0\n",
       "roof_matl          0\n",
       "roof_style         0\n",
       "house_style        0\n",
       "bldg_type          0\n",
       "condition_2        0\n",
       "condition_1        0\n",
       "neighborhood       0\n",
       "land_slope         0\n",
       "lot_config         0\n",
       "utilities          0\n",
       "land_contour       0\n",
       "lot_shape          0\n",
       "sale_type          0\n",
       "dtype: int64"
      ]
     },
     "execution_count": 57,
     "metadata": {},
     "output_type": "execute_result"
    }
   ],
   "source": [
    "test_df[test_df_cat].isnull().sum().sort_values(ascending = False)"
   ]
  },
  {
   "cell_type": "code",
   "execution_count": 58,
   "id": "9ae3f18c",
   "metadata": {},
   "outputs": [
    {
     "data": {
      "text/plain": [
       "array(['FuseP', 'SBrkr', 'FuseA', 'FuseF', nan], dtype=object)"
      ]
     },
     "execution_count": 58,
     "metadata": {},
     "output_type": "execute_result"
    }
   ],
   "source": [
    "test_df['electrical'].unique()"
   ]
  },
  {
   "cell_type": "code",
   "execution_count": 59,
   "id": "e89d3d61",
   "metadata": {},
   "outputs": [],
   "source": [
    "test_df['electrical'].fillna('SBrkr', inplace = True)"
   ]
  },
  {
   "cell_type": "markdown",
   "id": "f41cfaad",
   "metadata": {},
   "source": [
    "Impute test_df electrical with mode 'SBrkr'."
   ]
  },
  {
   "cell_type": "code",
   "execution_count": 60,
   "id": "51085619",
   "metadata": {},
   "outputs": [],
   "source": [
    "test_df.isnull().sum().sort_values(ascending = False)\n",
    "test_df_cat = test_df.select_dtypes(include='object').columns.tolist()"
   ]
  },
  {
   "cell_type": "code",
   "execution_count": 61,
   "id": "c2bc13e8",
   "metadata": {},
   "outputs": [],
   "source": [
    "for feature in test_df_cat:\n",
    "    test_df[feature].fillna('None', inplace = True)"
   ]
  },
  {
   "cell_type": "code",
   "execution_count": 62,
   "id": "f1650114",
   "metadata": {
    "scrolled": false
   },
   "outputs": [
    {
     "data": {
      "text/plain": [
       "(878, 58)"
      ]
     },
     "execution_count": 62,
     "metadata": {},
     "output_type": "execute_result"
    }
   ],
   "source": [
    "test_df.shape"
   ]
  },
  {
   "cell_type": "markdown",
   "id": "e31c1475",
   "metadata": {},
   "source": [
    "Replace NaNs with 'None'"
   ]
  },
  {
   "cell_type": "markdown",
   "id": "89a72179",
   "metadata": {},
   "source": [
    "### Get Dummies"
   ]
  },
  {
   "cell_type": "markdown",
   "id": "4dc55ce5",
   "metadata": {},
   "source": [
    "Dummify categorical features for both train and test datasets."
   ]
  },
  {
   "cell_type": "code",
   "execution_count": 63,
   "id": "bedc9182",
   "metadata": {},
   "outputs": [],
   "source": [
    "train_df_cat = train_df.select_dtypes(include='object').columns.tolist()"
   ]
  },
  {
   "cell_type": "code",
   "execution_count": 64,
   "id": "cc7fa5fe",
   "metadata": {},
   "outputs": [],
   "source": [
    "train_df = pd.get_dummies(data=train_df,columns=train_df_cat)"
   ]
  },
  {
   "cell_type": "code",
   "execution_count": 65,
   "id": "29661e00",
   "metadata": {},
   "outputs": [],
   "source": [
    "test_df_cat = test_df.select_dtypes(include='object').columns.tolist()"
   ]
  },
  {
   "cell_type": "code",
   "execution_count": 66,
   "id": "46521c02",
   "metadata": {},
   "outputs": [],
   "source": [
    "test_df = pd.get_dummies(data=test_df, columns=test_df_cat)"
   ]
  },
  {
   "cell_type": "code",
   "execution_count": 67,
   "id": "41d9c480",
   "metadata": {},
   "outputs": [
    {
     "data": {
      "text/plain": [
       "(2044, 229)"
      ]
     },
     "execution_count": 67,
     "metadata": {},
     "output_type": "execute_result"
    }
   ],
   "source": [
    "train_df.shape"
   ]
  },
  {
   "cell_type": "code",
   "execution_count": 68,
   "id": "900e36c9",
   "metadata": {
    "scrolled": true
   },
   "outputs": [
    {
     "data": {
      "text/plain": [
       "(878, 217)"
      ]
     },
     "execution_count": 68,
     "metadata": {},
     "output_type": "execute_result"
    }
   ],
   "source": [
    "test_df.shape"
   ]
  },
  {
   "cell_type": "markdown",
   "id": "3bdb3a9c",
   "metadata": {},
   "source": [
    "There are different columns in dummified train and test df. Checking which columns each df does not have."
   ]
  },
  {
   "cell_type": "code",
   "execution_count": 69,
   "id": "deae594c",
   "metadata": {},
   "outputs": [],
   "source": [
    "# declare list variable\n",
    "train_df_missing_col = []\n",
    "test_df_missing_col = []\n",
    "\n",
    "# append column missing in train_df\n",
    "\n",
    "for col in test_df.columns:\n",
    "    if col not in train_df.columns:\n",
    "        train_df_missing_col.append(col)\n",
    "        \n",
    "# append column missing in test_df\n",
    "\n",
    "for col in train_df.columns:\n",
    "    if col != 'saleprice':\n",
    "        if col not in test_df.columns:\n",
    "            test_df_missing_col.append(col)\n",
    "\n"
   ]
  },
  {
   "cell_type": "code",
   "execution_count": 70,
   "id": "5f775e09",
   "metadata": {},
   "outputs": [
    {
     "data": {
      "text/plain": [
       "['roof_matl_Metal',\n",
       " 'roof_matl_Roll',\n",
       " 'exterior_1st_PreCast',\n",
       " 'exterior_2nd_Other',\n",
       " 'exterior_2nd_PreCast',\n",
       " 'mas_vnr_type_CBlock',\n",
       " 'heating_Floor',\n",
       " 'sale_type_VWD']"
      ]
     },
     "execution_count": 70,
     "metadata": {},
     "output_type": "execute_result"
    }
   ],
   "source": [
    "train_df_missing_col # columns in test not in train"
   ]
  },
  {
   "cell_type": "code",
   "execution_count": 71,
   "id": "bf41e5bc",
   "metadata": {},
   "outputs": [
    {
     "data": {
      "text/plain": [
       "['ms_zoning_A (agr)',\n",
       " 'utilities_NoSeWa',\n",
       " 'neighborhood_GrnHill',\n",
       " 'neighborhood_Landmrk',\n",
       " 'condition_2_Artery',\n",
       " 'condition_2_PosN',\n",
       " 'condition_2_RRAe',\n",
       " 'condition_2_RRAn',\n",
       " 'condition_2_RRNn',\n",
       " 'roof_matl_Membran',\n",
       " 'exterior_1st_CBlock',\n",
       " 'exterior_1st_ImStucc',\n",
       " 'exterior_1st_Stone',\n",
       " 'exterior_2nd_Stone',\n",
       " 'heating_OthW',\n",
       " 'heating_Wall',\n",
       " 'electrical_Mix',\n",
       " 'functional_Sal',\n",
       " 'functional_Sev']"
      ]
     },
     "execution_count": 71,
     "metadata": {},
     "output_type": "execute_result"
    }
   ],
   "source": [
    "test_df_missing_col # columns in train not in test"
   ]
  },
  {
   "cell_type": "code",
   "execution_count": 72,
   "id": "60250ae0",
   "metadata": {},
   "outputs": [
    {
     "data": {
      "text/plain": [
       "roof_matl_Metal         1\n",
       "roof_matl_Roll          1\n",
       "exterior_1st_PreCast    1\n",
       "exterior_2nd_Other      1\n",
       "exterior_2nd_PreCast    1\n",
       "mas_vnr_type_CBlock     1\n",
       "heating_Floor           1\n",
       "sale_type_VWD           1\n",
       "dtype: int64"
      ]
     },
     "execution_count": 72,
     "metadata": {},
     "output_type": "execute_result"
    }
   ],
   "source": [
    "test_df[train_df_missing_col].sum()"
   ]
  },
  {
   "cell_type": "code",
   "execution_count": 73,
   "id": "9ff046a6",
   "metadata": {},
   "outputs": [
    {
     "data": {
      "text/plain": [
       "ms_zoning_A (agr)       2\n",
       "utilities_NoSeWa        1\n",
       "neighborhood_GrnHill    2\n",
       "neighborhood_Landmrk    1\n",
       "condition_2_Artery      5\n",
       "condition_2_PosN        3\n",
       "condition_2_RRAe        1\n",
       "condition_2_RRAn        1\n",
       "condition_2_RRNn        2\n",
       "roof_matl_Membran       1\n",
       "exterior_1st_CBlock     2\n",
       "exterior_1st_ImStucc    1\n",
       "exterior_1st_Stone      2\n",
       "exterior_2nd_Stone      6\n",
       "heating_OthW            2\n",
       "heating_Wall            6\n",
       "electrical_Mix          1\n",
       "functional_Sal          2\n",
       "functional_Sev          2\n",
       "dtype: int64"
      ]
     },
     "execution_count": 73,
     "metadata": {},
     "output_type": "execute_result"
    }
   ],
   "source": [
    "train_df[test_df_missing_col].sum()"
   ]
  },
  {
   "cell_type": "markdown",
   "id": "5dfc8384",
   "metadata": {},
   "source": [
    "Opting to remove missing columns from each dataset.<br>\n",
    "If columns were added, only a small percentage of meaningfull data will be added (ie 1/878 to 6/2043 $\\approx$ 0.1% to 0.3%) and a large percentage of noise will be included.<br>"
   ]
  },
  {
   "cell_type": "markdown",
   "id": "7884a438",
   "metadata": {},
   "source": [
    "Removing colums in train dataset that does not exist in test dataset."
   ]
  },
  {
   "cell_type": "code",
   "execution_count": 74,
   "id": "9608a4b3",
   "metadata": {},
   "outputs": [
    {
     "name": "stdout",
     "output_type": "stream",
     "text": [
      "ms_zoning_A (agr)\n",
      "utilities_NoSeWa\n",
      "neighborhood_GrnHill\n",
      "neighborhood_Landmrk\n",
      "condition_2_Artery\n",
      "condition_2_PosN\n",
      "condition_2_RRAe\n",
      "condition_2_RRAn\n",
      "condition_2_RRNn\n",
      "roof_matl_Membran\n",
      "exterior_1st_CBlock\n",
      "exterior_1st_ImStucc\n",
      "exterior_1st_Stone\n",
      "exterior_2nd_Stone\n",
      "heating_OthW\n",
      "heating_Wall\n",
      "electrical_Mix\n",
      "functional_Sal\n",
      "functional_Sev\n"
     ]
    }
   ],
   "source": [
    "for col in train_df.columns:\n",
    "    if col != 'saleprice':\n",
    "        if col not in test_df.columns:\n",
    "            print(col)\n",
    "            train_df.drop(columns=col, inplace = True)"
   ]
  },
  {
   "cell_type": "markdown",
   "id": "ba27a0b5",
   "metadata": {},
   "source": [
    "Removing colums in test dataset that does not exist in train dataset."
   ]
  },
  {
   "cell_type": "code",
   "execution_count": 75,
   "id": "616e7183",
   "metadata": {},
   "outputs": [
    {
     "name": "stdout",
     "output_type": "stream",
     "text": [
      "roof_matl_Metal\n",
      "roof_matl_Roll\n",
      "exterior_1st_PreCast\n",
      "exterior_2nd_Other\n",
      "exterior_2nd_PreCast\n",
      "mas_vnr_type_CBlock\n",
      "heating_Floor\n",
      "sale_type_VWD\n"
     ]
    }
   ],
   "source": [
    "for col in test_df.columns:\n",
    "    if col != 'saleprice':\n",
    "        if col not in train_df.columns:\n",
    "            print(col)\n",
    "            test_df.drop(columns=col, inplace = True)"
   ]
  },
  {
   "cell_type": "markdown",
   "id": "c38159bc",
   "metadata": {},
   "source": [
    "Only the saleprice column will be log transformed, as transforming the other features did not positively impact the model much"
   ]
  },
  {
   "cell_type": "markdown",
   "id": "afdb9435",
   "metadata": {},
   "source": [
    "# Train and score model"
   ]
  },
  {
   "cell_type": "code",
   "execution_count": 76,
   "id": "1593d881",
   "metadata": {},
   "outputs": [],
   "source": [
    "X = train_df.drop(columns = 'saleprice')\n",
    "y = train_df['saleprice']"
   ]
  },
  {
   "cell_type": "code",
   "execution_count": 77,
   "id": "da529a33",
   "metadata": {},
   "outputs": [
    {
     "name": "stdout",
     "output_type": "stream",
     "text": [
      "(2044, 209)\n"
     ]
    },
    {
     "data": {
      "text/plain": [
       "(2044,)"
      ]
     },
     "execution_count": 77,
     "metadata": {},
     "output_type": "execute_result"
    }
   ],
   "source": [
    "print(X.shape)\n",
    "y.shape"
   ]
  },
  {
   "cell_type": "code",
   "execution_count": 78,
   "id": "e60281c2",
   "metadata": {},
   "outputs": [],
   "source": [
    "X_train, X_test, y_train, y_test = train_test_split(X, y, test_size = 0.33, random_state = 147)"
   ]
  },
  {
   "cell_type": "code",
   "execution_count": 79,
   "id": "98013ef2",
   "metadata": {},
   "outputs": [],
   "source": [
    "ss = StandardScaler()"
   ]
  },
  {
   "cell_type": "code",
   "execution_count": 80,
   "id": "869386cd",
   "metadata": {},
   "outputs": [],
   "source": [
    "X_train_sc = ss.fit_transform(X_train)\n",
    "X_test_sc = ss.transform(X_test)"
   ]
  },
  {
   "cell_type": "markdown",
   "id": "2d4edc36",
   "metadata": {},
   "source": [
    "### Baseline Model "
   ]
  },
  {
   "cell_type": "code",
   "execution_count": 81,
   "id": "781a83d2",
   "metadata": {},
   "outputs": [
    {
     "name": "stdout",
     "output_type": "stream",
     "text": [
      "[181245.99217221135, 181245.99217221135, 181245.99217221135, 181245.99217221135, 181245.99217221135]\n",
      "675\n"
     ]
    }
   ],
   "source": [
    "# baseline model\n",
    "\n",
    "y_baseline_pred = [np.mean(train_df['saleprice']) for i in range(len(y_test))]\n",
    "print(y_baseline_pred[:5])\n",
    "print(len(y_baseline_pred))"
   ]
  },
  {
   "cell_type": "code",
   "execution_count": 82,
   "id": "8590d014",
   "metadata": {},
   "outputs": [
    {
     "data": {
      "text/plain": [
       "75248.15024215599"
      ]
     },
     "execution_count": 82,
     "metadata": {},
     "output_type": "execute_result"
    }
   ],
   "source": [
    "# baseline rmse\n",
    "\n",
    "baseline_rmse = mean_squared_error(y_test, y_baseline_pred, squared = False)\n",
    "baseline_rmse"
   ]
  },
  {
   "cell_type": "markdown",
   "id": "441dfa59",
   "metadata": {},
   "source": [
    "### Linear Regression"
   ]
  },
  {
   "cell_type": "markdown",
   "id": "46fee2a5",
   "metadata": {},
   "source": [
    "Linear Regression model will make a the best fit line to predict the sale price. It takes into account all features, wh"
   ]
  },
  {
   "cell_type": "code",
   "execution_count": 83,
   "id": "b4c05509",
   "metadata": {},
   "outputs": [],
   "source": [
    "lr = LinearRegression()"
   ]
  },
  {
   "cell_type": "code",
   "execution_count": 84,
   "id": "5363cfa4",
   "metadata": {},
   "outputs": [
    {
     "data": {
      "text/plain": [
       "LinearRegression()"
      ]
     },
     "execution_count": 84,
     "metadata": {},
     "output_type": "execute_result"
    }
   ],
   "source": [
    "lr.fit(X_train_sc, np.log(y_train))"
   ]
  },
  {
   "cell_type": "code",
   "execution_count": 85,
   "id": "2c424b6e",
   "metadata": {},
   "outputs": [],
   "source": [
    "lr_train_r2 = lr.score(X_train_sc, np.log(y_train))\n",
    "lr_test_r2 = lr.score(X_test_sc, np.log(y_test))\n",
    "lr_train_cv_r2 = cross_val_score(lr, X_train_sc, np.log(y_train), cv = 5).mean()\n",
    "lr_test_cv_r2 = cross_val_score(lr, X_test_sc,  np.log(y_test), cv = 5).mean()"
   ]
  },
  {
   "cell_type": "code",
   "execution_count": 86,
   "id": "991f48c6",
   "metadata": {},
   "outputs": [],
   "source": [
    "# by left way\n",
    "\n",
    "lr_y_pred = lr.predict(X_test_sc)\n",
    "lr_rmse = mean_squared_error(y_test, lr_y_pred, squared = False)\n",
    "lr_rmse_train = mean_squared_error(y_train, lr.predict(X_train_sc),squared = False)"
   ]
  },
  {
   "cell_type": "code",
   "execution_count": 87,
   "id": "727692d8",
   "metadata": {},
   "outputs": [],
   "source": [
    "# # by right way\n",
    "\n",
    "# lr_y_pred = np.exp(lr.predict(X_test_sc))\n",
    "# lr_rmse = mean_squared_error(y_test, lr_y_pred, squared = False)\n",
    "# lr_rmse_train = mean_squared_error(y_train, np.exp(lr.predict(X_train_sc)),squared = False)"
   ]
  },
  {
   "cell_type": "markdown",
   "id": "cc1ededf",
   "metadata": {},
   "source": [
    "### Linear Regression with Ridge"
   ]
  },
  {
   "cell_type": "code",
   "execution_count": 88,
   "id": "0e61dd5b",
   "metadata": {},
   "outputs": [],
   "source": [
    "r_alphas = np.logspace (-1, 10, 300)"
   ]
  },
  {
   "cell_type": "code",
   "execution_count": 89,
   "id": "b8e49ff3",
   "metadata": {},
   "outputs": [],
   "source": [
    "ridgecv = RidgeCV(r_alphas)"
   ]
  },
  {
   "cell_type": "code",
   "execution_count": 90,
   "id": "02c64a42",
   "metadata": {},
   "outputs": [],
   "source": [
    "ridgecv.fit(X_train_sc, np.log(y_train))\n",
    "ridgecv_r2_train = (ridgecv.score(X_train_sc, np.log(y_train)))\n",
    "ridgecv_r2_test = (ridgecv.score(X_test_sc, np.log(y_test)))"
   ]
  },
  {
   "cell_type": "code",
   "execution_count": 91,
   "id": "8a669554",
   "metadata": {},
   "outputs": [],
   "source": [
    "r_y_pred = np.exp(ridgecv.predict(X_test_sc))"
   ]
  },
  {
   "cell_type": "code",
   "execution_count": 92,
   "id": "280f4424",
   "metadata": {},
   "outputs": [],
   "source": [
    "r_rmse = mean_squared_error(y_test,r_y_pred,squared=False)"
   ]
  },
  {
   "cell_type": "code",
   "execution_count": 93,
   "id": "13c3d091",
   "metadata": {},
   "outputs": [],
   "source": [
    "r_rmse_train = mean_squared_error(y_train, np.exp(ridgecv.predict(X_train_sc)),squared = False)"
   ]
  },
  {
   "cell_type": "markdown",
   "id": "b9d2ea82",
   "metadata": {},
   "source": [
    "### Linear Regression with Lasso"
   ]
  },
  {
   "cell_type": "code",
   "execution_count": 94,
   "id": "e6cb58b6",
   "metadata": {},
   "outputs": [],
   "source": [
    "lassocv = LassoCV(n_alphas = 500)"
   ]
  },
  {
   "cell_type": "code",
   "execution_count": 95,
   "id": "548468e9",
   "metadata": {},
   "outputs": [],
   "source": [
    "lassocv.fit(X_train_sc, np.log(y_train))\n",
    "lasso_train_r2 = lassocv.score(X_train_sc, np.log(y_train))\n",
    "lasso_test_r2 = lassocv.score(X_test_sc, np.log(y_test))"
   ]
  },
  {
   "cell_type": "code",
   "execution_count": 96,
   "id": "59d9563f",
   "metadata": {},
   "outputs": [],
   "source": [
    "l_y_pred = np.exp(lassocv.predict(X_test_sc))"
   ]
  },
  {
   "cell_type": "code",
   "execution_count": 97,
   "id": "9e852751",
   "metadata": {},
   "outputs": [],
   "source": [
    "l_rmse = mean_squared_error(y_test,l_y_pred,squared=False)"
   ]
  },
  {
   "cell_type": "code",
   "execution_count": 98,
   "id": "429ee6d8",
   "metadata": {},
   "outputs": [],
   "source": [
    "l_rmse_train = mean_squared_error(y_train, np.exp(lassocv.predict(X_train_sc)), squared = False)"
   ]
  },
  {
   "cell_type": "code",
   "execution_count": 99,
   "id": "64a77b81",
   "metadata": {},
   "outputs": [],
   "source": [
    "def lasso_model():\n",
    "    t = PrettyTable(['Model', 'R2 Scores', 'RMSE'])\n",
    "\n",
    "    print(t)"
   ]
  },
  {
   "cell_type": "code",
   "execution_count": 100,
   "id": "356e9139",
   "metadata": {},
   "outputs": [],
   "source": [
    "from prettytable import PrettyTable\n",
    "def model_scores():\n",
    "    t = PrettyTable(['Model', 'R2 Scores', 'RMSE'])\n",
    "    t.add_row(['Baseline', 'na', 'na'])\n",
    "    t.add_row(['Baseline', 'na', baseline_rmse])\n",
    "    t.add_row(['-------', '-------', '-------'])\n",
    "    t.add_row(['Linear Regression Train', lr_train_r2, lr_rmse_train])\n",
    "    t.add_row(['Linear Regression Train', lr_test_r2, lr_rmse])\n",
    "    t.add_row(['-------', '-------', '-------'])\n",
    "    t.add_row(['Ridge CV Train', ridgecv_r2_train, r_rmse_train])\n",
    "    t.add_row(['Ridge CV Test', ridgecv_r2_test, r_rmse])\n",
    "    t.add_row(['-------', '-------', '-------'])\n",
    "    t.add_row(['Lasso Train CV', lasso_train_r2, l_rmse_train])\n",
    "    t.add_row(['Lasso Test CV', lasso_test_r2, l_rmse])\n",
    "    t.add_row(['-------', '-------', '-------'])\n",
    "    print(t)"
   ]
  },
  {
   "cell_type": "code",
   "execution_count": 101,
   "id": "58983a8c",
   "metadata": {},
   "outputs": [
    {
     "name": "stdout",
     "output_type": "stream",
     "text": [
      "+-------------------------+-------------------------+--------------------+\n",
      "|          Model          |        R2 Scores        |        RMSE        |\n",
      "+-------------------------+-------------------------+--------------------+\n",
      "|         Baseline        |            na           |         na         |\n",
      "|         Baseline        |            na           | 75248.15024215599  |\n",
      "|         -------         |         -------         |      -------       |\n",
      "| Linear Regression Train |    0.9437008265024215   | 199527.17614721344 |\n",
      "| Linear Regression Train | -2.8405279831539125e+23 | 207437241022.22318 |\n",
      "|         -------         |         -------         |      -------       |\n",
      "|      Ridge CV Train     |    0.9429650749185645   | 17994.83430639429  |\n",
      "|      Ridge CV Test      |    0.8755757232186198   | 21705.75993537153  |\n",
      "|         -------         |         -------         |      -------       |\n",
      "|      Lasso Train CV     |    0.9414520842531235   | 18179.026718179277 |\n",
      "|      Lasso Test CV      |    0.8768027595623984   | 21483.670830560743 |\n",
      "|         -------         |         -------         |      -------       |\n",
      "+-------------------------+-------------------------+--------------------+\n"
     ]
    }
   ],
   "source": [
    "model_scores()"
   ]
  },
  {
   "cell_type": "markdown",
   "id": "c0403e0d",
   "metadata": {},
   "source": [
    "Looking at the R2 scores for all 3 models, Linear Regression did the worse with a very large difference between the train and test score. The model looked overfit. It could be due to the large number of features that were made in the process. We will use this as our baseline model. Comparing lasso and ridge R2 scores, both models have very high R2 scores, meaning that a high percentage of the variance of our target value can be explained by our features with our models."
   ]
  },
  {
   "cell_type": "markdown",
   "id": "18600a72",
   "metadata": {},
   "source": [
    "### Coefficients"
   ]
  },
  {
   "cell_type": "code",
   "execution_count": 102,
   "id": "2a3f99ac",
   "metadata": {},
   "outputs": [],
   "source": [
    "lasso_coefs = pd.DataFrame(list(zip(np.exp(lassocv.coef_),X.columns)))\n",
    "lasso_coefs.rename(columns = { 0:\n",
    "                       'coef',\n",
    "                       1:\n",
    "                       'variable'}, inplace = True)\n",
    "lasso_coefs.sort_values(by='coef', ascending = False, inplace = True)\n",
    "lasso_coefs['coef'] = lasso_coefs['coef'] - 1"
   ]
  },
  {
   "cell_type": "code",
   "execution_count": 103,
   "id": "c522d712",
   "metadata": {},
   "outputs": [],
   "source": [
    "ridge_coefs = pd.DataFrame(list(zip(np.exp(ridgecv.coef_),X.columns)))\n",
    "ridge_coefs.rename(columns = { 0:\n",
    "                       'coef',\n",
    "                       1:\n",
    "                       'variable'}, inplace = True)\n",
    "ridge_coefs.sort_values(by='coef', ascending = False, inplace = True)\n",
    "ridge_coefs['coef'] = ridge_coefs['coef'] - 1"
   ]
  },
  {
   "cell_type": "code",
   "execution_count": 104,
   "id": "cd7ddf72",
   "metadata": {},
   "outputs": [
    {
     "name": "stderr",
     "output_type": "stream",
     "text": [
      "C:\\Users\\Darre\\AppData\\Local\\Temp/ipykernel_14072/2007225375.py:1: RuntimeWarning: overflow encountered in exp\n",
      "  linear_coefs = pd.DataFrame(list(zip(np.exp(lr.coef_),X.columns)))\n"
     ]
    }
   ],
   "source": [
    "linear_coefs = pd.DataFrame(list(zip(np.exp(lr.coef_),X.columns)))\n",
    "linear_coefs.rename(columns = { 0:\n",
    "                       'coef',\n",
    "                       1:\n",
    "                       'variable'}, inplace = True)\n",
    "linear_coefs.sort_values(by='coef', ascending = False, inplace = True)\n",
    "linear_coefs['coef'] = linear_coefs['coef'] - 1"
   ]
  },
  {
   "cell_type": "code",
   "execution_count": 105,
   "id": "78fdc4cb",
   "metadata": {},
   "outputs": [
    {
     "data": {
      "text/plain": [
       "saleprice        1.000000\n",
       "overall_qual     0.800207\n",
       "exter_qual       0.712146\n",
       "gr_liv_area      0.697038\n",
       "kitchen_qual     0.692336\n",
       "garage_area      0.649897\n",
       "garage_cars      0.647781\n",
       "total_bsmt_sf    0.629303\n",
       "1st_flr_sf       0.618486\n",
       "bsmt_qual        0.612188\n",
       "Name: saleprice, dtype: float64"
      ]
     },
     "execution_count": 105,
     "metadata": {},
     "output_type": "execute_result"
    }
   ],
   "source": [
    "# recap corr from above\n",
    "\n",
    "corr['saleprice'].sort_values(ascending = False).head(10)"
   ]
  },
  {
   "cell_type": "code",
   "execution_count": 106,
   "id": "6b3f1ade",
   "metadata": {},
   "outputs": [
    {
     "data": {
      "text/plain": [
       "low_qual_fin_sf   -0.041594\n",
       "bsmt_half_bath    -0.045290\n",
       "id                -0.051398\n",
       "ms_subclass       -0.087335\n",
       "overall_cond      -0.097019\n",
       "kitchen_abvgr     -0.125444\n",
       "enclosed_porch    -0.135656\n",
       "pid               -0.255052\n",
       "reno_age          -0.551716\n",
       "house_age         -0.571881\n",
       "Name: saleprice, dtype: float64"
      ]
     },
     "execution_count": 106,
     "metadata": {},
     "output_type": "execute_result"
    }
   ],
   "source": [
    "corr['saleprice'].sort_values(ascending = False).tail(10)"
   ]
  },
  {
   "cell_type": "code",
   "execution_count": 107,
   "id": "084022dd",
   "metadata": {},
   "outputs": [
    {
     "data": {
      "text/html": [
       "<div>\n",
       "<style scoped>\n",
       "    .dataframe tbody tr th:only-of-type {\n",
       "        vertical-align: middle;\n",
       "    }\n",
       "\n",
       "    .dataframe tbody tr th {\n",
       "        vertical-align: top;\n",
       "    }\n",
       "\n",
       "    .dataframe thead th {\n",
       "        text-align: right;\n",
       "    }\n",
       "</style>\n",
       "<table border=\"1\" class=\"dataframe\">\n",
       "  <thead>\n",
       "    <tr style=\"text-align: right;\">\n",
       "      <th></th>\n",
       "      <th>coef</th>\n",
       "      <th>variable</th>\n",
       "    </tr>\n",
       "  </thead>\n",
       "  <tbody>\n",
       "    <tr>\n",
       "      <th>104</th>\n",
       "      <td>inf</td>\n",
       "      <td>house_style_SFoyer</td>\n",
       "    </tr>\n",
       "    <tr>\n",
       "      <th>109</th>\n",
       "      <td>inf</td>\n",
       "      <td>roof_style_Hip</td>\n",
       "    </tr>\n",
       "    <tr>\n",
       "      <th>137</th>\n",
       "      <td>inf</td>\n",
       "      <td>exterior_2nd_Plywood</td>\n",
       "    </tr>\n",
       "    <tr>\n",
       "      <th>136</th>\n",
       "      <td>inf</td>\n",
       "      <td>exterior_2nd_MetalSd</td>\n",
       "    </tr>\n",
       "    <tr>\n",
       "      <th>135</th>\n",
       "      <td>inf</td>\n",
       "      <td>exterior_2nd_ImStucc</td>\n",
       "    </tr>\n",
       "  </tbody>\n",
       "</table>\n",
       "</div>"
      ],
      "text/plain": [
       "     coef              variable\n",
       "104   inf    house_style_SFoyer\n",
       "109   inf        roof_style_Hip\n",
       "137   inf  exterior_2nd_Plywood\n",
       "136   inf  exterior_2nd_MetalSd\n",
       "135   inf  exterior_2nd_ImStucc"
      ]
     },
     "execution_count": 107,
     "metadata": {},
     "output_type": "execute_result"
    }
   ],
   "source": [
    "linear_coefs.head()"
   ]
  },
  {
   "cell_type": "code",
   "execution_count": 108,
   "id": "3505a6e0",
   "metadata": {},
   "outputs": [
    {
     "data": {
      "text/html": [
       "<div>\n",
       "<style scoped>\n",
       "    .dataframe tbody tr th:only-of-type {\n",
       "        vertical-align: middle;\n",
       "    }\n",
       "\n",
       "    .dataframe tbody tr th {\n",
       "        vertical-align: top;\n",
       "    }\n",
       "\n",
       "    .dataframe thead th {\n",
       "        text-align: right;\n",
       "    }\n",
       "</style>\n",
       "<table border=\"1\" class=\"dataframe\">\n",
       "  <thead>\n",
       "    <tr style=\"text-align: right;\">\n",
       "      <th></th>\n",
       "      <th>coef</th>\n",
       "      <th>variable</th>\n",
       "    </tr>\n",
       "  </thead>\n",
       "  <tbody>\n",
       "    <tr>\n",
       "      <th>85</th>\n",
       "      <td>-1.0</td>\n",
       "      <td>condition_1_PosN</td>\n",
       "    </tr>\n",
       "    <tr>\n",
       "      <th>84</th>\n",
       "      <td>-1.0</td>\n",
       "      <td>condition_1_PosA</td>\n",
       "    </tr>\n",
       "    <tr>\n",
       "      <th>83</th>\n",
       "      <td>-1.0</td>\n",
       "      <td>condition_1_Norm</td>\n",
       "    </tr>\n",
       "    <tr>\n",
       "      <th>45</th>\n",
       "      <td>-1.0</td>\n",
       "      <td>utilities_AllPub</td>\n",
       "    </tr>\n",
       "    <tr>\n",
       "      <th>160</th>\n",
       "      <td>-1.0</td>\n",
       "      <td>bsmtfin_type_1_LwQ</td>\n",
       "    </tr>\n",
       "  </tbody>\n",
       "</table>\n",
       "</div>"
      ],
      "text/plain": [
       "     coef            variable\n",
       "85   -1.0    condition_1_PosN\n",
       "84   -1.0    condition_1_PosA\n",
       "83   -1.0    condition_1_Norm\n",
       "45   -1.0    utilities_AllPub\n",
       "160  -1.0  bsmtfin_type_1_LwQ"
      ]
     },
     "execution_count": 108,
     "metadata": {},
     "output_type": "execute_result"
    }
   ],
   "source": [
    "linear_coefs.tail()"
   ]
  },
  {
   "cell_type": "code",
   "execution_count": 109,
   "id": "bf8ebc66",
   "metadata": {},
   "outputs": [
    {
     "data": {
      "text/html": [
       "<div>\n",
       "<style scoped>\n",
       "    .dataframe tbody tr th:only-of-type {\n",
       "        vertical-align: middle;\n",
       "    }\n",
       "\n",
       "    .dataframe tbody tr th {\n",
       "        vertical-align: top;\n",
       "    }\n",
       "\n",
       "    .dataframe thead th {\n",
       "        text-align: right;\n",
       "    }\n",
       "</style>\n",
       "<table border=\"1\" class=\"dataframe\">\n",
       "  <thead>\n",
       "    <tr style=\"text-align: right;\">\n",
       "      <th></th>\n",
       "      <th>coef</th>\n",
       "      <th>variable</th>\n",
       "    </tr>\n",
       "  </thead>\n",
       "  <tbody>\n",
       "    <tr>\n",
       "      <th>185</th>\n",
       "      <td>0.152997</td>\n",
       "      <td>functional_Typ</td>\n",
       "    </tr>\n",
       "    <tr>\n",
       "      <th>14</th>\n",
       "      <td>0.130339</td>\n",
       "      <td>gr_liv_area</td>\n",
       "    </tr>\n",
       "    <tr>\n",
       "      <th>4</th>\n",
       "      <td>0.090299</td>\n",
       "      <td>overall_qual</td>\n",
       "    </tr>\n",
       "    <tr>\n",
       "      <th>182</th>\n",
       "      <td>0.083784</td>\n",
       "      <td>functional_Min1</td>\n",
       "    </tr>\n",
       "    <tr>\n",
       "      <th>183</th>\n",
       "      <td>0.078952</td>\n",
       "      <td>functional_Min2</td>\n",
       "    </tr>\n",
       "    <tr>\n",
       "      <th>184</th>\n",
       "      <td>0.065065</td>\n",
       "      <td>functional_Mod</td>\n",
       "    </tr>\n",
       "    <tr>\n",
       "      <th>9</th>\n",
       "      <td>0.033875</td>\n",
       "      <td>bsmtfin_sf_1</td>\n",
       "    </tr>\n",
       "    <tr>\n",
       "      <th>192</th>\n",
       "      <td>0.029830</td>\n",
       "      <td>garage_type_None</td>\n",
       "    </tr>\n",
       "    <tr>\n",
       "      <th>180</th>\n",
       "      <td>0.027334</td>\n",
       "      <td>functional_Maj1</td>\n",
       "    </tr>\n",
       "    <tr>\n",
       "      <th>171</th>\n",
       "      <td>0.022970</td>\n",
       "      <td>heating_GasA</td>\n",
       "    </tr>\n",
       "  </tbody>\n",
       "</table>\n",
       "</div>"
      ],
      "text/plain": [
       "         coef          variable\n",
       "185  0.152997    functional_Typ\n",
       "14   0.130339       gr_liv_area\n",
       "4    0.090299      overall_qual\n",
       "182  0.083784   functional_Min1\n",
       "183  0.078952   functional_Min2\n",
       "184  0.065065    functional_Mod\n",
       "9    0.033875      bsmtfin_sf_1\n",
       "192  0.029830  garage_type_None\n",
       "180  0.027334   functional_Maj1\n",
       "171  0.022970      heating_GasA"
      ]
     },
     "execution_count": 109,
     "metadata": {},
     "output_type": "execute_result"
    }
   ],
   "source": [
    "lasso_coefs.head(10)"
   ]
  },
  {
   "cell_type": "code",
   "execution_count": 110,
   "id": "33fa559e",
   "metadata": {},
   "outputs": [
    {
     "data": {
      "text/html": [
       "<div>\n",
       "<style scoped>\n",
       "    .dataframe tbody tr th:only-of-type {\n",
       "        vertical-align: middle;\n",
       "    }\n",
       "\n",
       "    .dataframe tbody tr th {\n",
       "        vertical-align: top;\n",
       "    }\n",
       "\n",
       "    .dataframe thead th {\n",
       "        text-align: right;\n",
       "    }\n",
       "</style>\n",
       "<table border=\"1\" class=\"dataframe\">\n",
       "  <thead>\n",
       "    <tr style=\"text-align: right;\">\n",
       "      <th></th>\n",
       "      <th>coef</th>\n",
       "      <th>variable</th>\n",
       "    </tr>\n",
       "  </thead>\n",
       "  <tbody>\n",
       "    <tr>\n",
       "      <th>62</th>\n",
       "      <td>-0.010363</td>\n",
       "      <td>neighborhood_Edwards</td>\n",
       "    </tr>\n",
       "    <tr>\n",
       "      <th>95</th>\n",
       "      <td>-0.010973</td>\n",
       "      <td>bldg_type_Duplex</td>\n",
       "    </tr>\n",
       "    <tr>\n",
       "      <th>131</th>\n",
       "      <td>-0.011849</td>\n",
       "      <td>exterior_2nd_BrkFace</td>\n",
       "    </tr>\n",
       "    <tr>\n",
       "      <th>116</th>\n",
       "      <td>-0.011996</td>\n",
       "      <td>exterior_1st_AsbShng</td>\n",
       "    </tr>\n",
       "    <tr>\n",
       "      <th>66</th>\n",
       "      <td>-0.013577</td>\n",
       "      <td>neighborhood_MeadowV</td>\n",
       "    </tr>\n",
       "    <tr>\n",
       "      <th>60</th>\n",
       "      <td>-0.013736</td>\n",
       "      <td>neighborhood_CollgCr</td>\n",
       "    </tr>\n",
       "    <tr>\n",
       "      <th>118</th>\n",
       "      <td>-0.015255</td>\n",
       "      <td>exterior_1st_BrkComm</td>\n",
       "    </tr>\n",
       "    <tr>\n",
       "      <th>27</th>\n",
       "      <td>-0.029669</td>\n",
       "      <td>house_age</td>\n",
       "    </tr>\n",
       "    <tr>\n",
       "      <th>29</th>\n",
       "      <td>-0.030847</td>\n",
       "      <td>ms_zoning_C (all)</td>\n",
       "    </tr>\n",
       "    <tr>\n",
       "      <th>28</th>\n",
       "      <td>-0.037422</td>\n",
       "      <td>reno_age</td>\n",
       "    </tr>\n",
       "  </tbody>\n",
       "</table>\n",
       "</div>"
      ],
      "text/plain": [
       "         coef              variable\n",
       "62  -0.010363  neighborhood_Edwards\n",
       "95  -0.010973      bldg_type_Duplex\n",
       "131 -0.011849  exterior_2nd_BrkFace\n",
       "116 -0.011996  exterior_1st_AsbShng\n",
       "66  -0.013577  neighborhood_MeadowV\n",
       "60  -0.013736  neighborhood_CollgCr\n",
       "118 -0.015255  exterior_1st_BrkComm\n",
       "27  -0.029669             house_age\n",
       "29  -0.030847     ms_zoning_C (all)\n",
       "28  -0.037422              reno_age"
      ]
     },
     "execution_count": 110,
     "metadata": {},
     "output_type": "execute_result"
    }
   ],
   "source": [
    "lasso_coefs.tail(10)"
   ]
  },
  {
   "cell_type": "code",
   "execution_count": 111,
   "id": "9b9566e1",
   "metadata": {},
   "outputs": [
    {
     "data": {
      "text/html": [
       "<div>\n",
       "<style scoped>\n",
       "    .dataframe tbody tr th:only-of-type {\n",
       "        vertical-align: middle;\n",
       "    }\n",
       "\n",
       "    .dataframe tbody tr th {\n",
       "        vertical-align: top;\n",
       "    }\n",
       "\n",
       "    .dataframe thead th {\n",
       "        text-align: right;\n",
       "    }\n",
       "</style>\n",
       "<table border=\"1\" class=\"dataframe\">\n",
       "  <thead>\n",
       "    <tr style=\"text-align: right;\">\n",
       "      <th></th>\n",
       "      <th>coef</th>\n",
       "      <th>variable</th>\n",
       "    </tr>\n",
       "  </thead>\n",
       "  <tbody>\n",
       "    <tr>\n",
       "      <th>185</th>\n",
       "      <td>0.156459</td>\n",
       "      <td>functional_Typ</td>\n",
       "    </tr>\n",
       "    <tr>\n",
       "      <th>33</th>\n",
       "      <td>0.095163</td>\n",
       "      <td>ms_zoning_RL</td>\n",
       "    </tr>\n",
       "    <tr>\n",
       "      <th>182</th>\n",
       "      <td>0.086830</td>\n",
       "      <td>functional_Min1</td>\n",
       "    </tr>\n",
       "    <tr>\n",
       "      <th>4</th>\n",
       "      <td>0.085160</td>\n",
       "      <td>overall_qual</td>\n",
       "    </tr>\n",
       "    <tr>\n",
       "      <th>14</th>\n",
       "      <td>0.084264</td>\n",
       "      <td>gr_liv_area</td>\n",
       "    </tr>\n",
       "    <tr>\n",
       "      <th>183</th>\n",
       "      <td>0.081487</td>\n",
       "      <td>functional_Min2</td>\n",
       "    </tr>\n",
       "    <tr>\n",
       "      <th>184</th>\n",
       "      <td>0.066862</td>\n",
       "      <td>functional_Mod</td>\n",
       "    </tr>\n",
       "    <tr>\n",
       "      <th>34</th>\n",
       "      <td>0.060367</td>\n",
       "      <td>ms_zoning_RM</td>\n",
       "    </tr>\n",
       "    <tr>\n",
       "      <th>30</th>\n",
       "      <td>0.052389</td>\n",
       "      <td>ms_zoning_FV</td>\n",
       "    </tr>\n",
       "    <tr>\n",
       "      <th>12</th>\n",
       "      <td>0.045750</td>\n",
       "      <td>1st_flr_sf</td>\n",
       "    </tr>\n",
       "  </tbody>\n",
       "</table>\n",
       "</div>"
      ],
      "text/plain": [
       "         coef         variable\n",
       "185  0.156459   functional_Typ\n",
       "33   0.095163     ms_zoning_RL\n",
       "182  0.086830  functional_Min1\n",
       "4    0.085160     overall_qual\n",
       "14   0.084264      gr_liv_area\n",
       "183  0.081487  functional_Min2\n",
       "184  0.066862   functional_Mod\n",
       "34   0.060367     ms_zoning_RM\n",
       "30   0.052389     ms_zoning_FV\n",
       "12   0.045750       1st_flr_sf"
      ]
     },
     "execution_count": 111,
     "metadata": {},
     "output_type": "execute_result"
    }
   ],
   "source": [
    "ridge_coefs.head(10)"
   ]
  },
  {
   "cell_type": "code",
   "execution_count": 112,
   "id": "a8b066cd",
   "metadata": {},
   "outputs": [
    {
     "data": {
      "text/html": [
       "<div>\n",
       "<style scoped>\n",
       "    .dataframe tbody tr th:only-of-type {\n",
       "        vertical-align: middle;\n",
       "    }\n",
       "\n",
       "    .dataframe tbody tr th {\n",
       "        vertical-align: top;\n",
       "    }\n",
       "\n",
       "    .dataframe thead th {\n",
       "        text-align: right;\n",
       "    }\n",
       "</style>\n",
       "<table border=\"1\" class=\"dataframe\">\n",
       "  <thead>\n",
       "    <tr style=\"text-align: right;\">\n",
       "      <th></th>\n",
       "      <th>coef</th>\n",
       "      <th>variable</th>\n",
       "    </tr>\n",
       "  </thead>\n",
       "  <tbody>\n",
       "    <tr>\n",
       "      <th>29</th>\n",
       "      <td>-0.016179</td>\n",
       "      <td>ms_zoning_C (all)</td>\n",
       "    </tr>\n",
       "    <tr>\n",
       "      <th>116</th>\n",
       "      <td>-0.016546</td>\n",
       "      <td>exterior_1st_AsbShng</td>\n",
       "    </tr>\n",
       "    <tr>\n",
       "      <th>118</th>\n",
       "      <td>-0.016683</td>\n",
       "      <td>exterior_1st_BrkComm</td>\n",
       "    </tr>\n",
       "    <tr>\n",
       "      <th>76</th>\n",
       "      <td>-0.018174</td>\n",
       "      <td>neighborhood_SawyerW</td>\n",
       "    </tr>\n",
       "    <tr>\n",
       "      <th>66</th>\n",
       "      <td>-0.020953</td>\n",
       "      <td>neighborhood_MeadowV</td>\n",
       "    </tr>\n",
       "    <tr>\n",
       "      <th>120</th>\n",
       "      <td>-0.021018</td>\n",
       "      <td>exterior_1st_CemntBd</td>\n",
       "    </tr>\n",
       "    <tr>\n",
       "      <th>62</th>\n",
       "      <td>-0.026950</td>\n",
       "      <td>neighborhood_Edwards</td>\n",
       "    </tr>\n",
       "    <tr>\n",
       "      <th>60</th>\n",
       "      <td>-0.031493</td>\n",
       "      <td>neighborhood_CollgCr</td>\n",
       "    </tr>\n",
       "    <tr>\n",
       "      <th>27</th>\n",
       "      <td>-0.031722</td>\n",
       "      <td>house_age</td>\n",
       "    </tr>\n",
       "    <tr>\n",
       "      <th>28</th>\n",
       "      <td>-0.036964</td>\n",
       "      <td>reno_age</td>\n",
       "    </tr>\n",
       "  </tbody>\n",
       "</table>\n",
       "</div>"
      ],
      "text/plain": [
       "         coef              variable\n",
       "29  -0.016179     ms_zoning_C (all)\n",
       "116 -0.016546  exterior_1st_AsbShng\n",
       "118 -0.016683  exterior_1st_BrkComm\n",
       "76  -0.018174  neighborhood_SawyerW\n",
       "66  -0.020953  neighborhood_MeadowV\n",
       "120 -0.021018  exterior_1st_CemntBd\n",
       "62  -0.026950  neighborhood_Edwards\n",
       "60  -0.031493  neighborhood_CollgCr\n",
       "27  -0.031722             house_age\n",
       "28  -0.036964              reno_age"
      ]
     },
     "execution_count": 112,
     "metadata": {},
     "output_type": "execute_result"
    }
   ],
   "source": [
    "ridge_coefs.tail(10)"
   ]
  },
  {
   "cell_type": "markdown",
   "id": "f865bd7a",
   "metadata": {},
   "source": [
    "Coefficients mean that for every unit increase for the feature, our target will also increase. <br>\n",
    "<br>\n",
    "For Linear Regression with Ridge and Lasso, the top 5 positive coefficients are similar, mainly consisting of\n",
    "- gr_living_area ( above grade living area square feet )\n",
    "- overall_qual ( overall material and finish quality )\n",
    "- functional_typ ( home functionality rating: house with typical functionality )\n",
    "- functional_min1 ( home functionality rating: house with minor deductions 1)\n",
    "- functional_min2 ( home functionality rating : house with deductions 2)\n",
    "\n",
    "The top 5 negative coefficients are simiar,\n",
    "- reno_age ( number of years since last renovation )\n",
    "- house_age ( age of the house )\n",
    "- neighborhood ( College Creek )\n",
    "- ms_zoning_c (  Identifies the general zoning classification of the sale: Commercial )\n",
    "- exterior_1st_BrkComm ( exterior covering of house: brick common )\n"
   ]
  },
  {
   "cell_type": "markdown",
   "id": "13510d75",
   "metadata": {},
   "source": [
    "### Distribution of Residuals "
   ]
  },
  {
   "cell_type": "code",
   "execution_count": 113,
   "id": "fbdedb3d",
   "metadata": {
    "scrolled": false
   },
   "outputs": [
    {
     "data": {
      "image/png": "[encoded data removed]",
      "text/plain": [
       "<Figure size 432x432 with 3 Axes>"
      ]
     },
     "metadata": {
      "needs_background": "light"
     },
     "output_type": "display_data"
    }
   ],
   "source": [
    "l_residuals = y_test - l_y_pred\n",
    "lasso_joint = sns.jointplot(y=l_residuals,x=l_y_pred)\n",
    "lasso_joint.set_axis_labels('Lasso CV Predicted Values', 'Lasso CV Residuals', fontsize=16);"
   ]
  },
  {
   "cell_type": "code",
   "execution_count": 114,
   "id": "9959e0fc",
   "metadata": {},
   "outputs": [
    {
     "data": {
      "image/png": "[encoded data removed]",
      "text/plain": [
       "<Figure size 432x432 with 3 Axes>"
      ]
     },
     "metadata": {
      "needs_background": "light"
     },
     "output_type": "display_data"
    }
   ],
   "source": [
    "r_residuals = y_test - r_y_pred\n",
    "ridge_joint = sns.jointplot(y=r_residuals,x=r_y_pred)\n",
    "ridge_joint.set_axis_labels('Ridge CV Predicted Values', 'Ridge CV Residuals', fontsize=16);"
   ]
  },
  {
   "cell_type": "markdown",
   "id": "1e44cfdb",
   "metadata": {},
   "source": [
    "The distribution of residuals for both lasso and ridge seem to be normally distributed, satisfying the condition of normally distributed for linear regression."
   ]
  },
  {
   "cell_type": "markdown",
   "id": "c930840d",
   "metadata": {},
   "source": [
    "### Kaggle Submission Score"
   ]
  },
  {
   "cell_type": "markdown",
   "id": "b79975dd",
   "metadata": {},
   "source": [
    "###### Linear Regression"
   ]
  },
  {
   "cell_type": "code",
   "execution_count": 115,
   "id": "fd383003",
   "metadata": {},
   "outputs": [
    {
     "name": "stderr",
     "output_type": "stream",
     "text": [
      "C:\\Users\\Darre\\AppData\\Local\\Temp/ipykernel_14072/2557273678.py:8: RuntimeWarning: overflow encountered in exp\n",
      "  chosen_y_pred = np.exp(linear.predict(test_sc))\n"
     ]
    }
   ],
   "source": [
    "X_sc = ss.fit_transform(X)\n",
    "test_sc = ss.transform(test_df)\n",
    "\n",
    "linear = LinearRegression()\n",
    "\n",
    "linear.fit(X_sc, np.log(y))\n",
    "\n",
    "chosen_y_pred = np.exp(linear.predict(test_sc))\n",
    "\n",
    "submission_ridge = pd.DataFrame()\n",
    "submission_ridge['Id'] = test_df['id']\n",
    "submission_ridge['SalePrice'] = chosen_y_pred\n",
    "submission_ridge.to_csv('./datasets/linear regression submission.csv', index = False)"
   ]
  },
  {
   "cell_type": "markdown",
   "id": "d2d8ca7f",
   "metadata": {},
   "source": [
    "##### Linear Regression with Lasso Submission to Kaggle"
   ]
  },
  {
   "cell_type": "code",
   "execution_count": 116,
   "id": "f7adda1d",
   "metadata": {},
   "outputs": [
    {
     "name": "stdout",
     "output_type": "stream",
     "text": [
      "R2 score:\n",
      "0.9294166477655412\n"
     ]
    }
   ],
   "source": [
    "lasso_chosen = lassocv.alpha_\n",
    "\n",
    "X_sc = ss.fit_transform(X)\n",
    "test_sc = ss.transform(test_df)\n",
    "\n",
    "lasso = Lasso(alpha = lasso_chosen)\n",
    "\n",
    "lasso.fit(X_sc, np.log(y))\n",
    "\n",
    "print('R2 score:')\n",
    "print(lasso.score(X_sc, np.log(y)))\n",
    "\n",
    "chosen_l_y_pred = np.exp(lasso.predict(test_sc))\n",
    "\n",
    "submission_ridge = pd.DataFrame()\n",
    "submission_ridge['Id'] = test_df['id']\n",
    "submission_ridge['SalePrice'] = chosen_l_y_pred\n",
    "submission_ridge.to_csv('./datasets/lasso submission.csv', index = False)"
   ]
  },
  {
   "cell_type": "markdown",
   "id": "c65c9ab4",
   "metadata": {},
   "source": [
    "##### Linear Regression with Ridge Submission to Kaggle"
   ]
  },
  {
   "cell_type": "code",
   "execution_count": 117,
   "id": "ae098bba",
   "metadata": {},
   "outputs": [
    {
     "name": "stdout",
     "output_type": "stream",
     "text": [
      "R2 score:\n",
      "0.9312734561653201\n"
     ]
    }
   ],
   "source": [
    "ridge_chosen = ridgecv.alpha_\n",
    "\n",
    "X_sc = ss.fit_transform(X)\n",
    "test_sc = ss.transform(test_df)\n",
    "\n",
    "ridge = Ridge(alpha = ridge_chosen)\n",
    "\n",
    "ridge.fit(X_sc, np.log(y))\n",
    "\n",
    "print('R2 score:')\n",
    "print(ridge.score(X_sc, np.log(y)))\n",
    "\n",
    "chosen_r_y_pred = np.exp(ridge.predict(test_sc))\n",
    "\n",
    "submission_ridge = pd.DataFrame()\n",
    "submission_ridge['Id'] = test_df['id']\n",
    "submission_ridge['SalePrice'] = chosen_r_y_pred\n",
    "submission_ridge.to_csv('./datasets/ridge submission.csv', index = False)"
   ]
  },
  {
   "cell_type": "markdown",
   "id": "dedbbc7a",
   "metadata": {},
   "source": [
    "### Lasso Kaggle score: <br>\n",
    "Private: 19,763<br>\n",
    "Public: 21,004<br>\n",
    "It has a spread of 1241.<br><br>\n",
    "Ridge Kaggle score:<br>\n",
    "Private Score: 20040<br>\n",
    "Public Score: 21,347<br>\n",
    "It has a spread of 1307."
   ]
  },
  {
   "cell_type": "markdown",
   "id": "e1026c72",
   "metadata": {},
   "source": [
    "# Conclusion"
   ]
  },
  {
   "cell_type": "markdown",
   "id": "60c9cb2a",
   "metadata": {},
   "source": [
    "###### Model Choice : Linear Regression with Lasso"
   ]
  },
  {
   "cell_type": "markdown",
   "id": "65261d47",
   "metadata": {},
   "source": [
    "Looking at the overall scoring for Linear Regression, it is not a good model for our situation as it is overfit.<br>\n",
    "<br>\n",
    "Using the train test scores for linear regression, we can see that for lasso and ridge, the training scores were a little lower. This is to be expected as we introduced some bias to get better accuracy, which can be seen in the test set R2 scores for lasso and ridge.<br>\n",
    "<br>\n",
    "Between Lasso and Ridge, both models gave good metrics, with a similar RMSE and coefficients. However, the best model for this case would be Linear Regression with Lasso, as it predicts the saleprice with the highest accuracy among the 3 models, and the lowst RMSE spread.<br><br>"
   ]
  },
  {
   "cell_type": "markdown",
   "id": "3c5876d4",
   "metadata": {},
   "source": [
    "###### Findings"
   ]
  },
  {
   "cell_type": "markdown",
   "id": "16ce48aa",
   "metadata": {},
   "source": [
    "Our model is able to predict sale price of a house, given it's features with an accuracy of +- $19,763 ( based on kaggle private score ). <br><br>\n",
    "Features that affect the sale price positively are:<br>\n",
    "- gr_living_area ( above grade living area square feet )\n",
    "- overall_qual ( overall material and finish quality )\n",
    "- functional_typ ( home functionality rating: house with typical functionality )\n",
    "- functional_min1 ( home functionality rating: house with minor deductions 1)\n",
    "- functional_min2 ( home functionality rating : house with deductions 2)<br><br>\n",
    "Features that affect the sale price negatively are:<br>\n",
    "- reno_age ( number of years since last renovation )\n",
    "- house_age ( age of the house )\n",
    "- neighborhood ( College Creek )\n",
    "- ms_zoning_c (  Identifies the general zoning classification of the sale: Commercial )\n",
    "- exterior_1st_BrkComm ( exterior covering of house: brick common )\n",
    "\n",
    "\n",
    "With this in mind, home buyers / sellers and real estate agents are able to get an outside view of the market rate of a house. They can have a rough feel of the price of the house by observing the features that positively and negatively affect the price.<br>\n",
    "They can also use the model to get a clearer picture of theh saleprice. In this way, they will not overpay / under price / estimate inaccurately the value of a house<br>\n",
    "Buyers and real estate agents are able to pick out under priced house, and sellers know when they are offered a good price."
   ]
  }
 ],
 "metadata": {
  "kernelspec": {
   "display_name": "Python 3 (ipykernel)",
   "language": "python",
   "name": "python3"
  },
  "language_info": {
   "codemirror_mode": {
    "name": "ipython",
    "version": 3
   },
   "file_extension": ".py",
   "mimetype": "text/x-python",
   "name": "python",
   "nbconvert_exporter": "python",
   "pygments_lexer": "ipython3",
   "version": "3.9.9"
  }
 },
 "nbformat": 4,
 "nbformat_minor": 5
}
